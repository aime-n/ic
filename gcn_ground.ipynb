{
 "cells": [
  {
   "cell_type": "code",
   "execution_count": 1,
   "metadata": {},
   "outputs": [
    {
     "data": {
      "text/html": [
       "<div>\n",
       "<style scoped>\n",
       "    .dataframe tbody tr th:only-of-type {\n",
       "        vertical-align: middle;\n",
       "    }\n",
       "\n",
       "    .dataframe tbody tr th {\n",
       "        vertical-align: top;\n",
       "    }\n",
       "\n",
       "    .dataframe thead th {\n",
       "        text-align: right;\n",
       "    }\n",
       "</style>\n",
       "<table border=\"1\" class=\"dataframe\">\n",
       "  <thead>\n",
       "    <tr style=\"text-align: right;\">\n",
       "      <th></th>\n",
       "      <th>App id</th>\n",
       "      <th>Review id</th>\n",
       "      <th>Sentence id</th>\n",
       "      <th>Sentence content</th>\n",
       "      <th>Feature (Positive)</th>\n",
       "      <th>Feature (Neutral)</th>\n",
       "      <th>Feature (Negative)</th>\n",
       "      <th>Feature (All Annotated)</th>\n",
       "    </tr>\n",
       "  </thead>\n",
       "  <tbody>\n",
       "    <tr>\n",
       "      <th>0</th>\n",
       "      <td>com.zentertain.photoeditor</td>\n",
       "      <td>gp:AOqpTOEW40L9WXqCjzq04bqaZImgMdzlczxIF3_ibs8...</td>\n",
       "      <td>1</td>\n",
       "      <td>May be i can check</td>\n",
       "      <td>NaN</td>\n",
       "      <td>NaN</td>\n",
       "      <td>NaN</td>\n",
       "      <td>NaN</td>\n",
       "    </tr>\n",
       "    <tr>\n",
       "      <th>1</th>\n",
       "      <td>com.zentertain.photoeditor</td>\n",
       "      <td>gp:AOqpTOF57AQPvmnCiWYurwLY-F2-mej25ON8RAFk-Ls...</td>\n",
       "      <td>1</td>\n",
       "      <td>It make me happy</td>\n",
       "      <td>NaN</td>\n",
       "      <td>NaN</td>\n",
       "      <td>NaN</td>\n",
       "      <td>NaN</td>\n",
       "    </tr>\n",
       "    <tr>\n",
       "      <th>2</th>\n",
       "      <td>com.zentertain.photoeditor</td>\n",
       "      <td>gp:AOqpTOHYdmt72q4tSD8TZ8A5fZQqGivlBkIbWuHuJMZ...</td>\n",
       "      <td>1</td>\n",
       "      <td>I have a normal phone and it made 1 of my pics...</td>\n",
       "      <td>NaN</td>\n",
       "      <td>pics</td>\n",
       "      <td>NaN</td>\n",
       "      <td>pics</td>\n",
       "    </tr>\n",
       "    <tr>\n",
       "      <th>3</th>\n",
       "      <td>com.zentertain.photoeditor</td>\n",
       "      <td>gp:AOqpTOFYnXMShrDJPS0jpM04pFQxYOJN1LDuX3lSNm0...</td>\n",
       "      <td>1</td>\n",
       "      <td>Love it so much</td>\n",
       "      <td>NaN</td>\n",
       "      <td>NaN</td>\n",
       "      <td>NaN</td>\n",
       "      <td>NaN</td>\n",
       "    </tr>\n",
       "    <tr>\n",
       "      <th>4</th>\n",
       "      <td>com.zentertain.photoeditor</td>\n",
       "      <td>gp:AOqpTOF_JO496wnThQ2kcYlPct_g1GhOmQyyVvHp4VV...</td>\n",
       "      <td>1</td>\n",
       "      <td>Cant get to install</td>\n",
       "      <td>NaN</td>\n",
       "      <td>install</td>\n",
       "      <td>NaN</td>\n",
       "      <td>install</td>\n",
       "    </tr>\n",
       "  </tbody>\n",
       "</table>\n",
       "</div>"
      ],
      "text/plain": [
       "                       App id  \\\n",
       "0  com.zentertain.photoeditor   \n",
       "1  com.zentertain.photoeditor   \n",
       "2  com.zentertain.photoeditor   \n",
       "3  com.zentertain.photoeditor   \n",
       "4  com.zentertain.photoeditor   \n",
       "\n",
       "                                           Review id  Sentence id  \\\n",
       "0  gp:AOqpTOEW40L9WXqCjzq04bqaZImgMdzlczxIF3_ibs8...            1   \n",
       "1  gp:AOqpTOF57AQPvmnCiWYurwLY-F2-mej25ON8RAFk-Ls...            1   \n",
       "2  gp:AOqpTOHYdmt72q4tSD8TZ8A5fZQqGivlBkIbWuHuJMZ...            1   \n",
       "3  gp:AOqpTOFYnXMShrDJPS0jpM04pFQxYOJN1LDuX3lSNm0...            1   \n",
       "4  gp:AOqpTOF_JO496wnThQ2kcYlPct_g1GhOmQyyVvHp4VV...            1   \n",
       "\n",
       "                                    Sentence content Feature (Positive)  \\\n",
       "0                                 May be i can check                NaN   \n",
       "1                                   It make me happy                NaN   \n",
       "2  I have a normal phone and it made 1 of my pics...                NaN   \n",
       "3                                    Love it so much                NaN   \n",
       "4                                Cant get to install                NaN   \n",
       "\n",
       "  Feature (Neutral) Feature (Negative) Feature (All Annotated)  \n",
       "0               NaN                NaN                     NaN  \n",
       "1               NaN                NaN                     NaN  \n",
       "2              pics                NaN                    pics  \n",
       "3               NaN                NaN                     NaN  \n",
       "4           install                NaN                 install  "
      ]
     },
     "execution_count": 1,
     "metadata": {},
     "output_type": "execute_result"
    }
   ],
   "source": [
    "import pandas as pd\n",
    "ground_truth = pd.read_csv('Ground_truth.csv')\n",
    "ground_truth.head()"
   ]
  },
  {
   "cell_type": "code",
   "execution_count": 2,
   "metadata": {},
   "outputs": [
    {
     "data": {
      "text/plain": [
       "(2062, 8)"
      ]
     },
     "execution_count": 2,
     "metadata": {},
     "output_type": "execute_result"
    }
   ],
   "source": [
    "ground_truth.shape"
   ]
  },
  {
   "cell_type": "code",
   "execution_count": 3,
   "metadata": {},
   "outputs": [
    {
     "name": "stderr",
     "output_type": "stream",
     "text": [
      "[nltk_data] Downloading package punkt to /home/aime/nltk_data...\n",
      "[nltk_data]   Package punkt is already up-to-date!\n"
     ]
    }
   ],
   "source": [
    "import nltk\n",
    "from nltk.tokenize import sent_tokenize\n",
    "nltk.download('punkt')\n",
    "import networkx as nx"
   ]
  },
  {
   "cell_type": "code",
   "execution_count": 28,
   "metadata": {},
   "outputs": [
    {
     "name": "stdout",
     "output_type": "stream",
     "text": [
      "May be i can check\n"
     ]
    },
    {
     "ename": "NameError",
     "evalue": "name 'self' is not defined",
     "output_type": "error",
     "traceback": [
      "\u001b[0;31m---------------------------------------------------------------------------\u001b[0m",
      "\u001b[0;31mNameError\u001b[0m                                 Traceback (most recent call last)",
      "\u001b[0;32m<ipython-input-28-465b0e2e5585>\u001b[0m in \u001b[0;36m<module>\u001b[0;34m\u001b[0m\n\u001b[1;32m      6\u001b[0m     \u001b[0;32mfor\u001b[0m \u001b[0msentence\u001b[0m \u001b[0;32min\u001b[0m \u001b[0msent_tokenize\u001b[0m\u001b[0;34m(\u001b[0m\u001b[0mreview\u001b[0m\u001b[0;34m)\u001b[0m\u001b[0;34m:\u001b[0m\u001b[0;34m\u001b[0m\u001b[0;34m\u001b[0m\u001b[0m\n\u001b[1;32m      7\u001b[0m         \u001b[0mprint\u001b[0m\u001b[0;34m(\u001b[0m\u001b[0msentence\u001b[0m\u001b[0;34m)\u001b[0m\u001b[0;34m\u001b[0m\u001b[0;34m\u001b[0m\u001b[0m\n\u001b[0;32m----> 8\u001b[0;31m         \u001b[0mnodes\u001b[0m \u001b[0;34m=\u001b[0m \u001b[0mget_entity\u001b[0m\u001b[0;34m(\u001b[0m\u001b[0msentence\u001b[0m\u001b[0;34m)\u001b[0m\u001b[0;34m\u001b[0m\u001b[0;34m\u001b[0m\u001b[0m\n\u001b[0m\u001b[1;32m      9\u001b[0m         \u001b[0mrelation\u001b[0m \u001b[0;34m=\u001b[0m \u001b[0mget_relation\u001b[0m\u001b[0;34m(\u001b[0m\u001b[0msentence\u001b[0m\u001b[0;34m)\u001b[0m\u001b[0;34m\u001b[0m\u001b[0;34m\u001b[0m\u001b[0m\n\u001b[1;32m     10\u001b[0m         \u001b[0;31m# print(nodes,relation)\u001b[0m\u001b[0;34m\u001b[0m\u001b[0;34m\u001b[0m\u001b[0;34m\u001b[0m\u001b[0m\n",
      "\u001b[0;32m<ipython-input-27-1e53eab2508d>\u001b[0m in \u001b[0;36mget_entity\u001b[0;34m(sent)\u001b[0m\n\u001b[1;32m      2\u001b[0m     \u001b[0ment1\u001b[0m\u001b[0;34m,\u001b[0m \u001b[0ment2\u001b[0m \u001b[0;34m=\u001b[0m \u001b[0;34m[\u001b[0m\u001b[0;34m]\u001b[0m\u001b[0;34m,\u001b[0m\u001b[0;34m[\u001b[0m\u001b[0;34m]\u001b[0m\u001b[0;34m\u001b[0m\u001b[0;34m\u001b[0m\u001b[0m\n\u001b[1;32m      3\u001b[0m     \u001b[0mcpmds\u001b[0m\u001b[0;34m,\u001b[0m \u001b[0mmods\u001b[0m \u001b[0;34m=\u001b[0m \u001b[0;34m[\u001b[0m\u001b[0;34m]\u001b[0m\u001b[0;34m,\u001b[0m\u001b[0;34m[\u001b[0m\u001b[0;34m]\u001b[0m \u001b[0;31m#for compound and modifier\u001b[0m\u001b[0;34m\u001b[0m\u001b[0;34m\u001b[0m\u001b[0m\n\u001b[0;32m----> 4\u001b[0;31m     \u001b[0;32mfor\u001b[0m \u001b[0mtoken\u001b[0m \u001b[0;32min\u001b[0m \u001b[0mself\u001b[0m\u001b[0;34m.\u001b[0m\u001b[0mnlp\u001b[0m\u001b[0;34m(\u001b[0m\u001b[0msent\u001b[0m\u001b[0;34m)\u001b[0m\u001b[0;34m:\u001b[0m\u001b[0;34m\u001b[0m\u001b[0;34m\u001b[0m\u001b[0m\n\u001b[0m\u001b[1;32m      5\u001b[0m         \u001b[0;32mif\u001b[0m \u001b[0mtoken\u001b[0m\u001b[0;34m.\u001b[0m\u001b[0mdep_\u001b[0m \u001b[0;34m==\u001b[0m \u001b[0;34m\"punct\"\u001b[0m\u001b[0;34m:\u001b[0m \u001b[0;31m#if current token is a punctuation mark, move to the next token\u001b[0m\u001b[0;34m\u001b[0m\u001b[0;34m\u001b[0m\u001b[0m\n\u001b[1;32m      6\u001b[0m             \u001b[0;32mcontinue\u001b[0m\u001b[0;34m\u001b[0m\u001b[0;34m\u001b[0m\u001b[0m\n",
      "\u001b[0;31mNameError\u001b[0m: name 'self' is not defined"
     ]
    }
   ],
   "source": [
    "KG = nx.Graph()\n",
    "source = []\n",
    "target = []\n",
    "\n",
    "for review in ground_truth['Sentence content']:\n",
    "    for sentence in sent_tokenize(review):\n",
    "        print(sentence)\n",
    "        nodes = get_entity(sentence)\n",
    "        relation = get_relation(sentence)\n",
    "        # print(nodes,relation)\n",
    "        node1 = nodes[0]\n",
    "        node2 = nodes[1]\n",
    "        if len(node1) > 0 and len(node2) > 0:\n",
    "            KG.add_edge(node1,node2,relation=relation)\n",
    "            source.append(node1)\n",
    "            target.append(node2)"
   ]
  },
  {
   "cell_type": "code",
   "execution_count": null,
   "metadata": {},
   "outputs": [],
   "source": []
  }
 ],
 "metadata": {
  "kernelspec": {
   "display_name": "Python 3",
   "language": "python",
   "name": "python3"
  },
  "language_info": {
   "codemirror_mode": {
    "name": "ipython",
    "version": 3
   },
   "file_extension": ".py",
   "mimetype": "text/x-python",
   "name": "python",
   "nbconvert_exporter": "python",
   "pygments_lexer": "ipython3",
   "version": "3.7.6"
  }
 },
 "nbformat": 4,
 "nbformat_minor": 4
}
