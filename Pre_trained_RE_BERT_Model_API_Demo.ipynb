{
  "cells": [
    {
      "cell_type": "markdown",
      "metadata": {
        "id": "view-in-github",
        "colab_type": "text"
      },
      "source": [
        "<a href=\"https://colab.research.google.com/github/aime-n/ic/blob/main/Pre_trained_RE_BERT_Model_API_Demo.ipynb\" target=\"_parent\"><img src=\"https://colab.research.google.com/assets/colab-badge.svg\" alt=\"Open In Colab\"/></a>"
      ]
    },
    {
      "cell_type": "markdown",
      "metadata": {
        "id": "d7F24wi-bXEG"
      },
      "source": [
        "# Download Pre-trained RE-BERT Model\n",
        "* This is a ready-to-use model trained with eight app review datasets."
      ]
    },
    {
      "cell_type": "code",
      "execution_count": null,
      "metadata": {
        "colab": {
          "base_uri": "https://localhost:8080/"
        },
        "id": "bakFmMM2JGR3",
        "outputId": "a9c4f5e1-2c88-4172-a937-25cf7d628656"
      },
      "outputs": [
        {
          "output_type": "stream",
          "name": "stdout",
          "text": [
            "Downloading...\n",
            "From: https://drive.google.com/uc?id=1-5v7gCPWaKKBtJVu0KZwvlDyEia40crr\n",
            "To: /content/demo_api_8apps_v1.model\n",
            "100% 455M/455M [00:02<00:00, 157MB/s]\n"
          ]
        }
      ],
      "source": [
        "!gdown https://drive.google.com/uc?id=1-5v7gCPWaKKBtJVu0KZwvlDyEia40crr"
      ]
    },
    {
      "cell_type": "markdown",
      "metadata": {
        "id": "qB-cgVUUSmNl"
      },
      "source": [
        "# Cloning RE-BERT repository"
      ]
    },
    {
      "cell_type": "code",
      "execution_count": null,
      "metadata": {
        "colab": {
          "base_uri": "https://localhost:8080/"
        },
        "id": "YBmt7OX0PSix",
        "outputId": "bb2a9532-432a-4623-8e89-311626db1da9"
      },
      "outputs": [
        {
          "output_type": "stream",
          "name": "stdout",
          "text": [
            "Cloning into 'RE-BERT'...\n",
            "remote: Enumerating objects: 106, done.\u001b[K\n",
            "remote: Counting objects: 100% (106/106), done.\u001b[K\n",
            "remote: Compressing objects: 100% (89/89), done.\u001b[K\n",
            "remote: Total 106 (delta 40), reused 57 (delta 15), pack-reused 0\u001b[K\n",
            "Receiving objects: 100% (106/106), 1.87 MiB | 13.33 MiB/s, done.\n",
            "Resolving deltas: 100% (40/40), done.\n"
          ]
        }
      ],
      "source": [
        "!git clone https://github.com/adailtonaraujo/RE-BERT\n",
        "!mv RE-BERT/* ."
      ]
    },
    {
      "cell_type": "markdown",
      "metadata": {
        "id": "xwDbUl_4mK67"
      },
      "source": [
        "# Install dependencies"
      ]
    },
    {
      "cell_type": "code",
      "execution_count": null,
      "metadata": {
        "id": "TriRyWUlW650",
        "colab": {
          "base_uri": "https://localhost:8080/"
        },
        "outputId": "913440aa-29e6-4b24-9132-5d103f753e79"
      },
      "outputs": [
        {
          "output_type": "stream",
          "name": "stdout",
          "text": [
            "Requirement already satisfied: numpy>=1.13.3 in /usr/local/lib/python3.7/dist-packages (from -r requirements.txt (line 1)) (1.19.5)\n",
            "Requirement already satisfied: torch>=0.4.0 in /usr/local/lib/python3.7/dist-packages (from -r requirements.txt (line 2)) (1.10.0+cu111)\n",
            "Collecting transformers==2.3.0\n",
            "  Downloading transformers-2.3.0-py3-none-any.whl (447 kB)\n",
            "\u001b[K     |████████████████████████████████| 447 kB 5.2 MB/s \n",
            "\u001b[?25hRequirement already satisfied: sklearn in /usr/local/lib/python3.7/dist-packages (from -r requirements.txt (line 4)) (0.0)\n",
            "Collecting boto3\n",
            "  Downloading boto3-1.20.26-py3-none-any.whl (131 kB)\n",
            "\u001b[K     |████████████████████████████████| 131 kB 48.8 MB/s \n",
            "\u001b[?25hRequirement already satisfied: tqdm in /usr/local/lib/python3.7/dist-packages (from transformers==2.3.0->-r requirements.txt (line 3)) (4.62.3)\n",
            "Collecting sacremoses\n",
            "  Downloading sacremoses-0.0.46-py3-none-any.whl (895 kB)\n",
            "\u001b[K     |████████████████████████████████| 895 kB 41.1 MB/s \n",
            "\u001b[?25hRequirement already satisfied: requests in /usr/local/lib/python3.7/dist-packages (from transformers==2.3.0->-r requirements.txt (line 3)) (2.23.0)\n",
            "Collecting sentencepiece\n",
            "  Downloading sentencepiece-0.1.96-cp37-cp37m-manylinux_2_17_x86_64.manylinux2014_x86_64.whl (1.2 MB)\n",
            "\u001b[K     |████████████████████████████████| 1.2 MB 45.1 MB/s \n",
            "\u001b[?25hRequirement already satisfied: regex!=2019.12.17 in /usr/local/lib/python3.7/dist-packages (from transformers==2.3.0->-r requirements.txt (line 3)) (2019.12.20)\n",
            "Requirement already satisfied: typing-extensions in /usr/local/lib/python3.7/dist-packages (from torch>=0.4.0->-r requirements.txt (line 2)) (3.10.0.2)\n",
            "Requirement already satisfied: scikit-learn in /usr/local/lib/python3.7/dist-packages (from sklearn->-r requirements.txt (line 4)) (1.0.1)\n",
            "Collecting jmespath<1.0.0,>=0.7.1\n",
            "  Downloading jmespath-0.10.0-py2.py3-none-any.whl (24 kB)\n",
            "Collecting s3transfer<0.6.0,>=0.5.0\n",
            "  Downloading s3transfer-0.5.0-py3-none-any.whl (79 kB)\n",
            "\u001b[K     |████████████████████████████████| 79 kB 7.6 MB/s \n",
            "\u001b[?25hCollecting botocore<1.24.0,>=1.23.26\n",
            "  Downloading botocore-1.23.26-py3-none-any.whl (8.5 MB)\n",
            "\u001b[K     |████████████████████████████████| 8.5 MB 41.0 MB/s \n",
            "\u001b[?25hRequirement already satisfied: python-dateutil<3.0.0,>=2.1 in /usr/local/lib/python3.7/dist-packages (from botocore<1.24.0,>=1.23.26->boto3->transformers==2.3.0->-r requirements.txt (line 3)) (2.8.2)\n",
            "Collecting urllib3<1.27,>=1.25.4\n",
            "  Downloading urllib3-1.26.7-py2.py3-none-any.whl (138 kB)\n",
            "\u001b[K     |████████████████████████████████| 138 kB 51.3 MB/s \n",
            "\u001b[?25hRequirement already satisfied: six>=1.5 in /usr/local/lib/python3.7/dist-packages (from python-dateutil<3.0.0,>=2.1->botocore<1.24.0,>=1.23.26->boto3->transformers==2.3.0->-r requirements.txt (line 3)) (1.15.0)\n",
            "Requirement already satisfied: certifi>=2017.4.17 in /usr/local/lib/python3.7/dist-packages (from requests->transformers==2.3.0->-r requirements.txt (line 3)) (2021.10.8)\n",
            "Requirement already satisfied: idna<3,>=2.5 in /usr/local/lib/python3.7/dist-packages (from requests->transformers==2.3.0->-r requirements.txt (line 3)) (2.10)\n",
            "Requirement already satisfied: chardet<4,>=3.0.2 in /usr/local/lib/python3.7/dist-packages (from requests->transformers==2.3.0->-r requirements.txt (line 3)) (3.0.4)\n",
            "  Downloading urllib3-1.25.11-py2.py3-none-any.whl (127 kB)\n",
            "\u001b[K     |████████████████████████████████| 127 kB 50.8 MB/s \n",
            "\u001b[?25hRequirement already satisfied: click in /usr/local/lib/python3.7/dist-packages (from sacremoses->transformers==2.3.0->-r requirements.txt (line 3)) (7.1.2)\n",
            "Requirement already satisfied: joblib in /usr/local/lib/python3.7/dist-packages (from sacremoses->transformers==2.3.0->-r requirements.txt (line 3)) (1.1.0)\n",
            "Requirement already satisfied: scipy>=1.1.0 in /usr/local/lib/python3.7/dist-packages (from scikit-learn->sklearn->-r requirements.txt (line 4)) (1.4.1)\n",
            "Requirement already satisfied: threadpoolctl>=2.0.0 in /usr/local/lib/python3.7/dist-packages (from scikit-learn->sklearn->-r requirements.txt (line 4)) (3.0.0)\n",
            "Installing collected packages: urllib3, jmespath, botocore, s3transfer, sentencepiece, sacremoses, boto3, transformers\n",
            "  Attempting uninstall: urllib3\n",
            "    Found existing installation: urllib3 1.24.3\n",
            "    Uninstalling urllib3-1.24.3:\n",
            "      Successfully uninstalled urllib3-1.24.3\n",
            "\u001b[31mERROR: pip's dependency resolver does not currently take into account all the packages that are installed. This behaviour is the source of the following dependency conflicts.\n",
            "datascience 0.10.6 requires folium==0.2.1, but you have folium 0.8.3 which is incompatible.\u001b[0m\n",
            "Successfully installed boto3-1.20.26 botocore-1.23.26 jmespath-0.10.0 s3transfer-0.5.0 sacremoses-0.0.46 sentencepiece-0.1.96 transformers-2.3.0 urllib3-1.25.11\n"
          ]
        }
      ],
      "source": [
        "!pip install -r requirements.txt"
      ]
    },
    {
      "cell_type": "markdown",
      "metadata": {
        "id": "c27WbNtJaL6_"
      },
      "source": [
        "# Loading RE-BERT Model"
      ]
    },
    {
      "cell_type": "code",
      "execution_count": null,
      "metadata": {
        "colab": {
          "base_uri": "https://localhost:8080/"
        },
        "id": "Wam3PqGvVzpt",
        "outputId": "45b58a75-483c-40cb-bd9b-28d3eb06bd3b"
      },
      "outputs": [
        {
          "output_type": "stream",
          "name": "stdout",
          "text": [
            "[nltk_data] Downloading package punkt to /root/nltk_data...\n",
            "[nltk_data]   Unzipping tokenizers/punkt.zip.\n",
            "loading model RE_BERT ...\n"
          ]
        }
      ],
      "source": [
        "\n",
        "from re_bert_demo import re_bert_model\n",
        "from re_bert_demo import extract\n",
        "import numpy as np\n",
        "\n",
        "options = ['--classifier_model_file','demo_api_8apps_v1.model']\n",
        "model = re_bert_model(options)"
      ]
    },
    {
      "cell_type": "markdown",
      "metadata": {
        "id": "3eIA72_-onEU"
      },
      "source": [
        "# Usage example 1\n",
        "\n",
        "* Review:\n",
        "> I use the app to apply filters to my photos and it's really fun."
      ]
    },
    {
      "cell_type": "code",
      "execution_count": null,
      "metadata": {
        "colab": {
          "base_uri": "https://localhost:8080/"
        },
        "id": "vwk_jjopk8xT",
        "outputId": "a5fbf6c1-b72c-48bb-d8c4-6dc4c407eae8"
      },
      "outputs": [
        {
          "output_type": "stream",
          "name": "stderr",
          "text": [
            "\rExtract software requirements candidates:   0%|          | 0/1 [00:00<?, ?it/s]/content/re_bert_demo.py:73: UserWarning: Creating a tensor from a list of numpy.ndarrays is extremely slow. Please consider converting the list to a single numpy.ndarray with numpy.array() before converting to a tensor. (Triggered internally at  ../torch/csrc/utils/tensor_new.cpp:201.)\n",
            "  t_inputs = [torch.tensor([data[col]], device=self.opt.device) for col in self.opt.inputs_cols]\n",
            "Extract software requirements candidates: 100%|██████████| 1/1 [00:01<00:00,  1.36s/it]"
          ]
        },
        {
          "output_type": "stream",
          "name": "stdout",
          "text": [
            "\n",
            "\n",
            "Review:  I use the app to apply filters to my photos and it's really fun.\n",
            "Software Requirements Extracted (in each sentence): ['filters;my photos']\n",
            "\n",
            "\n",
            "Sentence: I use the app to apply filters to my photos and it's really fun.\n",
            "Software Requirements Tokens: ['filters', 'my', 'photos']\n",
            "Token [ I ] is tag [ O ] with 0.9931491 confidence.\n",
            "Token [ use ] is tag [ O ] with 0.99655616 confidence.\n",
            "Token [ the ] is tag [ O ] with 0.9950094 confidence.\n",
            "Token [ app ] is tag [ O ] with 0.99786866 confidence.\n",
            "Token [ to ] is tag [ O ] with 0.98195285 confidence.\n",
            "Token [ apply ] is tag [ O ] with 0.99565744 confidence.\n",
            "Token [ filters ] is tag [ B ] with 0.9494474 confidence.\n",
            "Token [ to ] is tag [ O ] with 0.98195285 confidence.\n",
            "Token [ my ] is tag [ I ] with 0.8788272 confidence.\n",
            "Token [ photos ] is tag [ I ] with 0.9809651 confidence.\n",
            "Token [ and ] is tag [ O ] with 0.9959637 confidence.\n",
            "Token [ it ] is tag [ O ] with 0.9980204 confidence.\n",
            "Token [ 's ] is tag [ O ] with 0.9980354 confidence.\n",
            "Token [ really ] is tag [ O ] with 0.9996358 confidence.\n",
            "Token [ fun ] is tag [ O ] with 0.99950397 confidence.\n",
            "Token [ . ] is tag [ O ] with 0.99938476 confidence.\n"
          ]
        },
        {
          "output_type": "stream",
          "name": "stderr",
          "text": [
            "\n"
          ]
        }
      ],
      "source": [
        "review = \"I use the app to apply filters to my photos and it's really fun.\"\n",
        "predictions,requirements_extracted = extract(model,review)\n",
        "\n",
        "\n",
        "print('\\n\\nReview: ',review)\n",
        "print('Software Requirements Extracted (in each sentence):',requirements_extracted)\n",
        "\n",
        "for item in predictions:\n",
        "  sentence = item[0]\n",
        "  software_requirements = item[1]\n",
        "  iob_classification = item[2]\n",
        "  print('\\n\\nSentence:',sentence)\n",
        "  print('Software Requirements Tokens:',software_requirements)\n",
        "  for tokens_res in iob_classification:\n",
        "    token = tokens_res[0]\n",
        "    confidence = np.max(tokens_res[1]['confidences'])\n",
        "    iob_class = np.max(tokens_res[1]['iob'])\n",
        "    iob_tag = 'O'\n",
        "    if iob_class == 0: iob_tag='B'\n",
        "    if iob_class == 1: iob_tag='I'\n",
        "    print('Token [',token,'] is tag [',iob_tag,'] with',confidence,'confidence.')"
      ]
    },
    {
      "cell_type": "markdown",
      "metadata": {
        "id": "7s6Clg3eoxm2"
      },
      "source": [
        "# Usage example 2\n",
        "\n",
        "* Review:\n",
        "> I am trying to set up a business account and change my email address and I am having the most difficulty using your app its totally ridiculous! And another thing I am unable to see prices until driver has been found."
      ]
    },
    {
      "cell_type": "code",
      "execution_count": null,
      "metadata": {
        "colab": {
          "base_uri": "https://localhost:8080/"
        },
        "id": "MHRVTWE8nzLN",
        "outputId": "ca9e1322-3c71-46ad-ed8e-85a7a36aca9f"
      },
      "outputs": [
        {
          "name": "stderr",
          "output_type": "stream",
          "text": [
            "Extract software requirements candidates: 100%|██████████| 2/2 [00:01<00:00,  1.72it/s]"
          ]
        },
        {
          "name": "stdout",
          "output_type": "stream",
          "text": [
            "\n",
            "\n",
            "Review:  I am trying to set up a business account and change my email address and I am having the most difficulty using your app its totally ridiculous! And another thing I am unable to see prices until driver has been found.\n",
            "Software Requirements Extracted (in each sentence): ['up;business account;change my email address', 'see prices']\n",
            "\n",
            "\n",
            "Sentence: I am trying to set up a business account and change my email address and I am having the most difficulty using your app its totally ridiculous!\n",
            "Software Requirements Tokens: ['up', 'business', 'account', 'change', 'my', 'email', 'address']\n",
            "Token [ I ] is tag [ O ] with 0.93952286 confidence.\n",
            "Token [ am ] is tag [ O ] with 0.9886058 confidence.\n",
            "Token [ trying ] is tag [ O ] with 0.99090403 confidence.\n",
            "Token [ to ] is tag [ O ] with 0.9771086 confidence.\n",
            "Token [ set ] is tag [ O ] with 0.6529409 confidence.\n",
            "Token [ up ] is tag [ I ] with 0.7320296 confidence.\n",
            "Token [ a ] is tag [ O ] with 0.8555306 confidence.\n",
            "Token [ business ] is tag [ I ] with 0.9410975 confidence.\n",
            "Token [ account ] is tag [ I ] with 0.9938638 confidence.\n",
            "Token [ and ] is tag [ O ] with 0.8030552 confidence.\n",
            "Token [ change ] is tag [ I ] with 0.5424819 confidence.\n",
            "Token [ my ] is tag [ I ] with 0.9591564 confidence.\n",
            "Token [ email ] is tag [ I ] with 0.6736892 confidence.\n",
            "Token [ address ] is tag [ I ] with 0.96408856 confidence.\n",
            "Token [ and ] is tag [ O ] with 0.8030552 confidence.\n",
            "Token [ I ] is tag [ O ] with 0.93952286 confidence.\n",
            "Token [ am ] is tag [ O ] with 0.9886058 confidence.\n",
            "Token [ having ] is tag [ O ] with 0.9926077 confidence.\n",
            "Token [ the ] is tag [ O ] with 0.93838614 confidence.\n",
            "Token [ most ] is tag [ O ] with 0.9945322 confidence.\n",
            "Token [ difficulty ] is tag [ O ] with 0.9954059 confidence.\n",
            "Token [ using ] is tag [ O ] with 0.99673045 confidence.\n",
            "Token [ your ] is tag [ O ] with 0.89347434 confidence.\n",
            "Token [ app ] is tag [ O ] with 0.99781525 confidence.\n",
            "Token [ its ] is tag [ O ] with 0.99531674 confidence.\n",
            "Token [ totally ] is tag [ O ] with 0.99497753 confidence.\n",
            "Token [ ridiculous ] is tag [ O ] with 0.9966168 confidence.\n",
            "Token [ ! ] is tag [ O ] with 0.9971118 confidence.\n",
            "\n",
            "\n",
            "Sentence: And another thing I am unable to see prices until driver has been found.\n",
            "Software Requirements Tokens: ['see', 'prices']\n",
            "Token [ And ] is tag [ O ] with 0.9988279 confidence.\n",
            "Token [ another ] is tag [ O ] with 0.99792 confidence.\n",
            "Token [ thing ] is tag [ O ] with 0.9991015 confidence.\n",
            "Token [ I ] is tag [ O ] with 0.99924576 confidence.\n",
            "Token [ am ] is tag [ O ] with 0.9988047 confidence.\n",
            "Token [ unable ] is tag [ O ] with 0.9962655 confidence.\n",
            "Token [ to ] is tag [ O ] with 0.9954561 confidence.\n",
            "Token [ see ] is tag [ B ] with 0.8681868 confidence.\n",
            "Token [ prices ] is tag [ I ] with 0.9801446 confidence.\n",
            "Token [ until ] is tag [ O ] with 0.99432385 confidence.\n",
            "Token [ driver ] is tag [ O ] with 0.99550974 confidence.\n",
            "Token [ has ] is tag [ O ] with 0.99833375 confidence.\n",
            "Token [ been ] is tag [ O ] with 0.99855405 confidence.\n",
            "Token [ found ] is tag [ O ] with 0.9975466 confidence.\n",
            "Token [ . ] is tag [ O ] with 0.99818784 confidence.\n"
          ]
        },
        {
          "name": "stderr",
          "output_type": "stream",
          "text": [
            "\n"
          ]
        }
      ],
      "source": [
        "review = \"I am trying to set up a business account and change my email address and I am having the most difficulty using your app its totally ridiculous! And another thing I am unable to see prices until driver has been found.\"\n",
        "predictions,requirements_extracted = extract(model,review)\n",
        "\n",
        "\n",
        "print('\\n\\nReview: ',review)\n",
        "print('Software Requirements Extracted (in each sentence):',requirements_extracted)\n",
        "\n",
        "for item in predictions:\n",
        "  sentence = item[0]\n",
        "  software_requirements = item[1]\n",
        "  iob_classification = item[2]\n",
        "  print('\\n\\nSentence:',sentence)\n",
        "  print('Software Requirements Tokens:',software_requirements)\n",
        "  for tokens_res in iob_classification:\n",
        "    token = tokens_res[0]\n",
        "    confidence = np.max(tokens_res[1]['confidences'])\n",
        "    iob_class = np.max(tokens_res[1]['iob'])\n",
        "    iob_tag = 'O'\n",
        "    if iob_class == 0: iob_tag='B'\n",
        "    if iob_class == 1: iob_tag='I'\n",
        "    print('Token [',token,'] is tag [',iob_tag,'] with',confidence,'confidence.')"
      ]
    },
    {
      "cell_type": "code",
      "source": [
        "review = \"Plenty of options to choose from to make whatever kind of picture you would like\"\n",
        "predictions,requirements_extracted = extract(model,review)\n",
        "\n",
        "\n",
        "print('\\n\\nReview: ',review)\n",
        "print('Software Requirements Extracted (in each sentence):',requirements_extracted)\n",
        "\n",
        "for item in predictions:\n",
        "  sentence = item[0]\n",
        "  software_requirements = item[1]\n",
        "  iob_classification = item[2]\n",
        "  print('\\n\\nSentence:',sentence)\n",
        "  print('Software Requirements Tokens:',software_requirements)\n",
        "  for tokens_res in iob_classification:\n",
        "    token = tokens_res[0]\n",
        "    confidence = np.max(tokens_res[1]['confidences'])\n",
        "    iob_class = np.max(tokens_res[1]['iob'])\n",
        "    iob_tag = 'O'\n",
        "    if iob_class == 0: iob_tag='B'\n",
        "    if iob_class == 1: iob_tag='I'\n",
        "    print('Token [',token,'] is tag [',iob_tag,'] with',confidence,'confidence.')"
      ],
      "metadata": {
        "colab": {
          "base_uri": "https://localhost:8080/"
        },
        "id": "fgsk-FHxAUOR",
        "outputId": "54f404eb-645e-4724-8ca4-f158db535550"
      },
      "execution_count": null,
      "outputs": [
        {
          "output_type": "stream",
          "name": "stderr",
          "text": [
            "Extract software requirements candidates: 100%|██████████| 1/1 [00:01<00:00,  1.15s/it]"
          ]
        },
        {
          "output_type": "stream",
          "name": "stdout",
          "text": [
            "\n",
            "\n",
            "Review:  Plenty of options to choose from to make whatever kind of picture you would like\n",
            "Software Requirements Extracted (in each sentence): ['options to choose from to make whatever;picture']\n",
            "\n",
            "\n",
            "Sentence: Plenty of options to choose from to make whatever kind of picture you would like\n",
            "Software Requirements Tokens: ['options', 'to', 'choose', 'from', 'to', 'make', 'whatever', 'picture']\n",
            "Token [ Plenty ] is tag [ O ] with 0.9034953 confidence.\n",
            "Token [ of ] is tag [ O ] with 0.66322255 confidence.\n",
            "Token [ options ] is tag [ I ] with 0.55930746 confidence.\n",
            "Token [ to ] is tag [ I ] with 0.65642184 confidence.\n",
            "Token [ choose ] is tag [ B ] with 0.7737372 confidence.\n",
            "Token [ from ] is tag [ I ] with 0.5307644 confidence.\n",
            "Token [ to ] is tag [ I ] with 0.65642184 confidence.\n",
            "Token [ make ] is tag [ B ] with 0.5664315 confidence.\n",
            "Token [ whatever ] is tag [ I ] with 0.85118836 confidence.\n",
            "Token [ kind ] is tag [ O ] with 0.9271321 confidence.\n",
            "Token [ of ] is tag [ O ] with 0.66322255 confidence.\n",
            "Token [ picture ] is tag [ I ] with 0.9375399 confidence.\n",
            "Token [ you ] is tag [ O ] with 0.98270607 confidence.\n",
            "Token [ would ] is tag [ O ] with 0.99369425 confidence.\n",
            "Token [ like ] is tag [ O ] with 0.9943322 confidence.\n"
          ]
        },
        {
          "output_type": "stream",
          "name": "stderr",
          "text": [
            "\n"
          ]
        }
      ]
    }
  ],
  "metadata": {
    "accelerator": "GPU",
    "colab": {
      "collapsed_sections": [],
      "name": "Pre_trained_RE_BERT_Model_API_Demo.ipynb",
      "provenance": [],
      "toc_visible": true,
      "include_colab_link": true
    },
    "kernelspec": {
      "display_name": "Python 3",
      "language": "python",
      "name": "python3"
    },
    "language_info": {
      "codemirror_mode": {
        "name": "ipython",
        "version": 3
      },
      "file_extension": ".py",
      "mimetype": "text/x-python",
      "name": "python",
      "nbconvert_exporter": "python",
      "pygments_lexer": "ipython3",
      "version": "3.7.6"
    }
  },
  "nbformat": 4,
  "nbformat_minor": 0
}