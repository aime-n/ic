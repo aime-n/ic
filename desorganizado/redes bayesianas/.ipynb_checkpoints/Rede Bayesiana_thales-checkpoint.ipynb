{
 "cells": [
  {
   "cell_type": "markdown",
   "metadata": {
    "id": "arLMt_djGzg5"
   },
   "source": [
    "# Rede Bayesiana"
   ]
  },
  {
   "cell_type": "markdown",
   "metadata": {},
   "source": [
    "## Identidades probabilísticas\n",
    "- variáveis aleatórias em caps lock (A)\n",
    "- respectivos valores em minúsculo (a)\n",
    "\n",
    "### Probabilidade incondicional \n",
    "Quando um evento não tem uma condição para acontecer. Ou seja, a probabilidade não depende da ocorrência de um evento anterior.\n",
    "\n",
    "#### Eventos mutuamente exclusivos\n",
    "\n",
    "Se um evento está presente, então o outro estará ausente. Então:\n",
    "\n",
    "$$P(A ∨ B) = P(A) + P(B)$$\n",
    "Ex: tirar cara ou coroa.\n",
    "\n",
    "\n",
    "#### Eventos independentes:\n",
    "\n",
    "$$P(A ∧ B) = P(A) . P(B)$$\n",
    "Ex: tirar cara e coroa em duas jogadas.\n",
    "\n",
    "\n",
    "\n",
    "### Probabilidade condicional:\n",
    "- A probabilidade condicional depende de uma condição anterior; \n",
    "- Representada por P(B|A);\n",
    "- A probabilidade condicional pode ser interpretada como: \"A probabilidade da ocorrência do evento B, dada a ocorrência do evento A\".\n",
    "\n",
    "$$P(B|A) = \\displaystyle \\frac{P(A ∧ B)}{P(A)}$$\n",
    "\n",
    "Ex: prob. de fazer sol dado que é verão\n",
    "\n",
    "#### Caso A seja independente de B:\n",
    "\n",
    "$$P(A|B) = P(A)$$\n",
    "\n",
    "\n",
    "<!-- ## Probabilidade conjunta\n",
    "Probabilidade de dois eventos ocorrem. \n",
    "Prob. de que faça sol e seja verão == P(a, b) = P(a|b).P(b)\n",
    "\n",
    "$$P(A , B) = P(A) . P(B)$$ -->"
   ]
  },
  {
   "cell_type": "markdown",
   "metadata": {
    "id": "lEOU_ImrSWt7"
   },
   "source": [
    "## Teorema de Bayes\n",
    "\n",
    "Probabilidade da causa dado efeito.\n",
    "\n",
    "Ex: prob. de que seja verão dado que faça sol."
   ]
  },
  {
   "cell_type": "markdown",
   "metadata": {
    "id": "JMZbbe4c7bjl"
   },
   "source": [
    "![](https://drive.google.com/uc?export=view&id=1SedFukdf7JKPpXKZD6KddA-bwOwp2ZN9)"
   ]
  },
  {
   "cell_type": "markdown",
   "metadata": {
    "id": "Yz0XjTbWSdS9"
   },
   "source": [
    "Considere uma partição de um espaço amostral S um conjunto de eventos\n",
    "A1, A2, A3, ..., An, os eventos Ai são mutuamente exclusivos e sua união é S. Agora dado outro evento B com probabilidade P(B), então:\n",
    "\n",
    "$$B = S ∧ B = (A_1 ∨ A_2 ∨ .... ∨ A_n) ∧ B$$\n",
    "\n",
    "onde Ai ∧ B são mutuamente exclusivos. Consequentemente a probabilidade da ocorrência de B é dada por:\n",
    "\n",
    "$$P(B) = \\sum_i P(A_i ∧ B)$$\n",
    "\n",
    "Utilizando-se a probabilidade condicional, temos que:\n",
    "\n",
    "$$P(B) = \\sum_i P(A_i ∧ B) = ΣiP(B|A_i).P(A_i)$$\n",
    "\n",
    "Logo, chega-se no Teorema de Bayes:\n",
    "\n",
    "$$P(A_i|B) = \\displaystyle \\frac{P(A_i ∧ B)}{P(B)} = \\frac{P(B|A_i).P(A_i)}{\\sum_j P(A_j ∧ B)} = \\frac{P(B|A_i).P(A_i)}{\\sum_j P(B|A_j).P(A_j)}$$\n",
    "\n",
    "Interpretação para Rede Bayesiana: consiste em considerar os eventos **Ai** como \"causas\" do evento **B**, sendo atribuídos probabilidades desses eventos **Ai** atuar na ocorrência de **B**. Essas probabilidades são calculadas antes da realização do experimento, conhecidas como probabilidades ***a priori*** de **Ai**. Após a realização do experimento, é conhecido que o evento **B** ocorreu, então as probabilidades ***a priori*** são revistas por meio do Teorema de Bayes e então passa a atribuir aos eventos **Ai** as probabilidades ***a posteriori*** **P(Ai|B)**."
   ]
  },
  {
   "cell_type": "markdown",
   "metadata": {
    "id": "33mBz9O3u3v6"
   },
   "source": [
    "## Distribuição de Probabilidade Conjunta"
   ]
  },
  {
   "cell_type": "markdown",
   "metadata": {
    "id": "iwcvjp0vu7hT"
   },
   "source": [
    "A distribuição de probabilidade conjunta de um conjunto de variáveis aleatórias X1, X2, ..., Xn é definida como:\n",
    "\n",
    "$$P(X_1 ∧ X_2 ∧ ... ∧ X_n)$$\n",
    "\n",
    "A distribuição de probabilidade pode ser representada em uma tabela: Para um conjunto de variáveis aleatórias binárias {a,b}, temos que:\n",
    "\n",
    "<table>\n",
    "  <tr>\n",
    "    <td> </td>\n",
    "    <th>a</th>\n",
    "    <th>~a</th>\n",
    "  </tr>\n",
    "  <tr>\n",
    "    <th>b</th>\n",
    "    <td>0.04</td>\n",
    "    <td>0.06 </td>    \n",
    "  </tr>\n",
    "  <tr>\n",
    "    <th>~b</th>\n",
    "    <td>0.01</td>\n",
    "    <td>0.89</td>\n",
    "  </tr>\n",
    "</table>"
   ]
  },
  {
   "cell_type": "markdown",
   "metadata": {
    "id": "LtsMP_5c6pop"
   },
   "source": [
    "## Rede Bayesiana"
   ]
  },
  {
   "cell_type": "markdown",
   "metadata": {
    "id": "nNxkBMu36sNm"
   },
   "source": [
    "Em Rede Bayesiana, a representação de variáveis e relações é feita utilizando Teoria dos Grafos. As variáveis são os nós e os arcos identificam as relações entre as variáveis, formando um grafo direcionado e sem ciclos.\n",
    "\n",
    "Exemplo em que a variável Z é condicionada pelas variáveis X e Y.\n",
    "\n"
   ]
  },
  {
   "cell_type": "markdown",
   "metadata": {
    "id": "lRmfcLM87y-C"
   },
   "source": [
    "![](https://drive.google.com/uc?export=view&id=17Eh1J7jBW9IOm_OlrlYTcU_DPqQ4XHyQ)"
   ]
  },
  {
   "cell_type": "markdown",
   "metadata": {
    "id": "D7tNlq6PESoe"
   },
   "source": [
    "Uma rede bayesiana consiste do seguinte:\n",
    "- É um tipo de modelo probabilístico gráfico\n",
    "- Modelos gráficos para raciocínio (conclusões) baseados em incerteza\n",
    "- Representa um conjunto de variáveis (nodes) e suas dependências condicionais (arcos)\n",
    "- As variáveis e arcos formam um grafo direcionado e sem ciclos (DAG - directed acyclic graph)\n",
    "- Cada variável possui um número limitado de estados mutuamente exclusivos;\n",
    "- São parametrizados usando distribuição de probabilidade condicional\n",
    "- Para cada variável A que possui como pais B1, B2, ..., Bn existe uma tabela de probabilidade condicional (TPC) P(A|B1 ∧ B2 ∧ ... ∧ Bn)"
   ]
  },
  {
   "cell_type": "markdown",
   "metadata": {},
   "source": [
    "### Nodes\n",
    "\n",
    "<!-- ![P(a,b,c).png](attachment:P(a,b,c).png) -->\n",
    "<img src=\"P(a,b,c).png\" alt=\"Drawing\" style=\"width:400px;\"/>\n",
    "\n",
    "- Cada node é uma variável que pode ser discreta ou contínua\n",
    "- Arcos representam a dependência condicional entre as variáveis, se não tem ligação, as variáveis não são relacionadas\n",
    "- Distribuição de probabilidade conjunta P(L, R, W) = P(L).P(R).P(W|R)\n",
    "- Cada node é parametrizado usando P(node| Parentes(node))\n",
    "- ganhar na loteria não tem conexão com o clima, são variáveis independentes, como representada no grafo\n",
    "\n",
    "#### Efeito em cadeia:\n",
    "\n",
    "(Win the loterry retirado pois não interfere em nada, é uma variável independente)\n",
    "\n",
    "<img src=\"efeitocadeia.png\" alt=\"Drawing\" style=\"width:400px;\"/>\n",
    "\n",
    "P(R, W, S) = P(R).P(W|R).P(S|W)\n",
    "\n",
    "#### Pode ter mais de um caminho:\n",
    "\n",
    "<!-- ![varioscaminhos.png](attachment:varioscaminhos.png) -->\n",
    "<img src=\"varioscaminhos.png\" alt=\"Drawing\" style=\"width:400px;\"/>\n",
    "\n",
    "P(R, W, S, C) = P(R).P(C).P(W|C,R).P(S|W)\n",
    "\n",
    "- P(W|C,R) = Variável Wet Graund (W) depende da probabilidade conjunta de duas variáveis.\n",
    "- => P(X| Parents(X) )\n",
    "\n",
    "### Independências nas Redes Bayesianas\n",
    "#### Independência local\n",
    "= Qualquer variável é condicionalmente independente de seus não-descendentes.\n",
    "Ex. Seja X->Y->Z.  P(Z|X,Y) = P(Z|Y), pois X não é descendente de Y.\n",
    "#### Independência global:\n",
    "\n",
    "<img src=\"independenciaglobal.png\" alt=\"Drawing\" style=\"width:700px;\"/>\n",
    "\n",
    "- Causal = qualquer mudança em A afeta B e C. Se B é conhecido, mudança em A não afeta a B ou a C, pois este último é dependente de B e independente de A.\n",
    "- Evidencial = similar a causal\n",
    "- Evidência em comum = se B desconhecido, mudança em A afeta um pouco a B mas não a C. Também conhecido como estrutura em V.\n",
    "- Causa em comum = flui de A a C. Quando B é conhecido, mudança em A não afeta C, já que este é dependente apenas de B."
   ]
  },
  {
   "cell_type": "markdown",
   "metadata": {
    "id": "LHmQuF6Mdusf"
   },
   "source": [
    "## Exemplo de Rede Bayesiana"
   ]
  },
  {
   "cell_type": "markdown",
   "metadata": {
    "id": "zW7DVf0hdxzU"
   },
   "source": [
    "Considerando um conjunto de dados constituído de 3 variáveis dicotômicas e 24 observações referentes à *credit scoring*, sendo as variáveis:\n",
    "\n",
    "- Sexo (S): Masculino ou Feminino;\n",
    "- Créditos anteriores (CA): um ou diferente de um;\n",
    "- Credit Rating (CR): Bom ou Ruim.\n",
    "\n",
    "Além disso, vamos considerar a seguinte estrutura de Rede Bayesiana:\n",
    "\n"
   ]
  },
  {
   "cell_type": "markdown",
   "metadata": {
    "id": "D1AGkPqk6hVr"
   },
   "source": [
    "![](https://drive.google.com/uc?export=view&id=1qjqhycTI97GeXM9pTLgM-EDdQOcqRwI_)\n",
    "\n"
   ]
  },
  {
   "cell_type": "markdown",
   "metadata": {
    "id": "vQ8wBBD66nsP"
   },
   "source": [
    "![](https://drive.google.com/uc?export=view&id=1tGo8t7nXQVZS3WfiHlndMQPGTa86uc56)\n"
   ]
  },
  {
   "cell_type": "markdown",
   "metadata": {
    "id": "yEQfCyV-4PJ5"
   },
   "source": [
    "Assim, levando em consideração a estrutura de relacionamento apresentada, precisamos dos cálculos das probabilidades P(S), P(CA|S) e P(CR|CA).\n",
    "\n",
    "- P(S) é estimada através da frequência relativa calculada via Tabela.\n",
    "- Para calcular P(CA|S) e P(CR|CA), partimos com as tabelas de distribuição conjunta e após, usando a probabilidade condicional P(CA ∧ S) e P(CR ∧ CA)."
   ]
  },
  {
   "cell_type": "markdown",
   "metadata": {
    "id": "ceNgQkp8693h"
   },
   "source": [
    "![](https://drive.google.com/uc?export=view&id=1KxfH6hMXLjcUpa9gD8rhfV4j6VLw8AzP)"
   ]
  },
  {
   "cell_type": "markdown",
   "metadata": {
    "id": "WolV9MJj6-iw"
   },
   "source": [
    "![](https://drive.google.com/uc?export=view&id=1HX3jELJOCX8O7CnVQbGxHFavfWcMF15K)"
   ]
  },
  {
   "cell_type": "markdown",
   "metadata": {
    "id": "fzavSfoi4-8_"
   },
   "source": [
    "Lembrando que:\n",
    "\n",
    "$$P(CA|S) = \\displaystyle \\frac{P(CA ∧ S)}{P(S)}$$\n",
    "\n",
    "$$P(CR|CA) = \\displaystyle \\frac{P(CR ∧ CA)}{P(CA)}$$\n",
    "\n",
    "Temos que as probabilidades condicionais P(CA|S) e P(CR|CA) são dadas por:"
   ]
  },
  {
   "cell_type": "markdown",
   "metadata": {
    "id": "fRpfnIp_7Qi_"
   },
   "source": [
    "![](https://drive.google.com/uc?export=view&id=1YTxnRfYb4KJ2WLMGsigYvx75BCLW_B8k)"
   ]
  },
  {
   "cell_type": "markdown",
   "metadata": {
    "id": "TtfX7T2z7Qry"
   },
   "source": [
    "![](https://drive.google.com/uc?export=view&id=1FKT0hOXGUuzA91-338ojcZ_QSx7zCjsH)"
   ]
  },
  {
   "cell_type": "markdown",
   "metadata": {
    "id": "L0Yr5D755leI"
   },
   "source": [
    "Logo, temos que a Rede Bayesiana pode ser expressa por:"
   ]
  },
  {
   "cell_type": "markdown",
   "metadata": {
    "id": "UHjoaF3q7Rd1"
   },
   "source": [
    "![](https://drive.google.com/uc?export=view&id=1BPHYKdF0IgXPJTg_2cJKJdsRuqgbCVV6)"
   ]
  },
  {
   "cell_type": "markdown",
   "metadata": {},
   "source": [
    "## Exemplo de rede bayesiana usando dados de furtos\n",
    "\n",
    "![](https://drive.google.com/uc?export=view&id=1aNWhL1Or9BHOSkH12PSC6reKepAt_sVg)"
   ]
  }
 ],
 "metadata": {
  "colab": {
   "authorship_tag": "ABX9TyOgNkpqDvZZxMJ0IeNni2dS",
   "collapsed_sections": [],
   "name": "Rede Bayesiana.ipynb",
   "provenance": []
  },
  "kernelspec": {
   "display_name": "Python 3",
   "language": "python",
   "name": "python3"
  },
  "language_info": {
   "codemirror_mode": {
    "name": "ipython",
    "version": 3
   },
   "file_extension": ".py",
   "mimetype": "text/x-python",
   "name": "python",
   "nbconvert_exporter": "python",
   "pygments_lexer": "ipython3",
   "version": "3.7.6"
  }
 },
 "nbformat": 4,
 "nbformat_minor": 4
}
