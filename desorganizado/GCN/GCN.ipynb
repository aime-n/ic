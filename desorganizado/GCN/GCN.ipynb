{
 "cells": [
  {
   "cell_type": "markdown",
   "metadata": {},
   "source": [
    "# Graph Neural Networks\n",
    "\n",
    "Graph neural networks (GNNs) are a set of deep learning methods that work in the graph domain.\n",
    "\n",
    "graph data works in the non-euclidean space. Graph analysis is therefore aimed at node classification, link prediction, and clustering. \n",
    "\n",
    "<img src=\"euclides.png\" alt=\"Drawing\" style=\"width:400px;\"/>\n",
    "\n",
    "A Graph is a data structure containing nodes and vertices. The relationship between the various nodes is defined by the vertices. If the direction is specified in the nodes the graph is said to be directed, otherwise, it is undirected. \n",
    "\n",
    "<img src=\"graph_example.png\" alt=\"Drawing\" style=\"width:400px;\"/>\n",
    "\n"
   ]
  },
  {
   "cell_type": "markdown",
   "metadata": {},
   "source": [
    "# Graph Convolutional Networks\n",
    "\n",
    "GCNs are a powerful deep neural network architecture that allows you to combine the feature and graph neighbourhood information.\n",
    "\n",
    "=> Convolutional, because filter parameters are typically shared over all locations in the graph\n",
    "\n",
    "\n",
    "<!-- Graph Convolutional Networks (GCNs) utilize the same convolution operation as in normal Convolutional Neural Networks.  -->\n",
    "\n",
    "GCNs learn features through the inspection of neighboring nodes. They are usually made up of a Graph convolution, a linear layer, and non-linear activation. GNNs work by aggregating vectors in the neighborhood, passing the result to a dense neural net layer, and finally applying non-linearity.  \n",
    "\n",
    "The main goal of GCN is to distill graph and node attribute information into the vector node representation aka embeddings.\n",
    "\n",
    "\n",
    "<img src=\"GCN2.png\" alt=\"Drawing\" style=\"width:400px;\"/>\n",
    "\n",
    "\n",
    "There are two major types of GCNs namely:\n",
    "\n",
    "- Spatial Convolutional Networks.\n",
    "\n",
    "In these networks, the features of neighboring nodes are combined into a central node. The features are summed similar to the normal convolution operation. \n",
    "\n",
    "- Spectral Convolutional Network:\n",
    "\n",
    "In Spectral networks, the convolution operation is defined in the Fourier domain by computing the eigendecomposition of the graph Laplacian.\n",
    "\n",
    "\n",
    "<img src=\"formula.png\" alt=\"Drawing\" style=\"width:400px;\"/>\n",
    "\n",
    "<!-- there are 2 parts of this equation - non-trainable (with D, A) and trainable (with H, A) -->"
   ]
  }
 ],
 "metadata": {
  "kernelspec": {
   "display_name": "Python 3.7.6 64-bit ('base': conda)",
   "language": "python",
   "name": "python376jvsc74a57bd097aa173f3d7cb6cbd06fd9440db227aa78877e700955a422baf122d22ccfb49a"
  },
  "language_info": {
   "codemirror_mode": {
    "name": "ipython",
    "version": 3
   },
   "file_extension": ".py",
   "mimetype": "text/x-python",
   "name": "python",
   "nbconvert_exporter": "python",
   "pygments_lexer": "ipython3",
   "version": "3.7.6"
  }
 },
 "nbformat": 4,
 "nbformat_minor": 4
}
