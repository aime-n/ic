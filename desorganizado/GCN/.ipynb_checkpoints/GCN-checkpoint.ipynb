{
 "cells": [
  {
   "cell_type": "markdown",
   "metadata": {},
   "source": [
    "# Graph Neural Networks\n",
    "\n",
    "Graph neural networks (GNNs) are a set of deep learning methods that work in the graph domain.\n",
    "\n",
    "graph data works in the non-euclidean space. Graph analysis is therefore aimed at node classification, link prediction, and clustering. \n",
    "\n",
    "<img src=\"P(a,b,c).png\" alt=\"Drawing\" style=\"width:400px;\"/>"
   ]
  }
 ],
 "metadata": {
  "kernelspec": {
   "display_name": "Python 3.7.6 64-bit ('base': conda)",
   "language": "python",
   "name": "python376jvsc74a57bd097aa173f3d7cb6cbd06fd9440db227aa78877e700955a422baf122d22ccfb49a"
  },
  "language_info": {
   "codemirror_mode": {
    "name": "ipython",
    "version": 3
   },
   "file_extension": ".py",
   "mimetype": "text/x-python",
   "name": "python",
   "nbconvert_exporter": "python",
   "pygments_lexer": "ipython3",
   "version": "3.7.6"
  }
 },
 "nbformat": 4,
 "nbformat_minor": 4
}
