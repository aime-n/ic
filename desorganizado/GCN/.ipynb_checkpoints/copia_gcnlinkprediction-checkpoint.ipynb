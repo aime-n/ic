{
 "cells": [
  {
   "cell_type": "markdown",
   "metadata": {},
   "source": [
    "# Link prediction with GCN"
   ]
  },
  {
   "cell_type": "markdown",
   "metadata": {
    "nbsphinx": "hidden",
    "tags": [
     "CloudRunner"
    ]
   },
   "source": [
    "<table><tr><td>Run the latest release of this notebook:</td><td><a href=\"https://mybinder.org/v2/gh/stellargraph/stellargraph/master?urlpath=lab/tree/demos/link-prediction/gcn-link-prediction.ipynb\" alt=\"Open In Binder\" target=\"_parent\"><img src=\"https://mybinder.org/badge_logo.svg\"/></a></td><td><a href=\"https://colab.research.google.com/github/stellargraph/stellargraph/blob/master/demos/link-prediction/gcn-link-prediction.ipynb\" alt=\"Open In Colab\" target=\"_parent\"><img src=\"https://colab.research.google.com/assets/colab-badge.svg\"/></a></td></tr></table>"
   ]
  },
  {
   "cell_type": "markdown",
   "metadata": {},
   "source": [
    "In this example, we use our implementation of the [GCN](https://arxiv.org/abs/1609.02907) algorithm to build a model that predicts citation links in the Cora dataset (see below). The problem is treated as a supervised link prediction problem on a homogeneous citation network with nodes representing papers (with attributes such as binary keyword indicators and categorical subject) and links corresponding to paper-paper citations. \n",
    "\n",
    "To address this problem, we build a model with the following architecture. First we build a two-layer GCN model that takes labeled node pairs (`citing-paper` -> `cited-paper`)  corresponding to possible citation links, and outputs a pair of node embeddings for the `citing-paper` and `cited-paper` nodes of the pair. These embeddings are then fed into a link classification layer, which first applies a binary operator to those node embeddings (e.g., concatenating them) to construct the embedding of the potential link. Thus obtained link embeddings are passed through the dense link classification layer to obtain link predictions - probability for these candidate links to actually exist in the network. The entire model is trained end-to-end by minimizing the loss function of choice (e.g., binary cross-entropy between predicted link probabilities and true link labels, with true/false citation links having labels 1/0) using stochastic gradient descent (SGD) updates of the model parameters, with minibatches of 'training' links fed into the model."
   ]
  },
  {
   "cell_type": "code",
   "execution_count": 44,
   "metadata": {
    "nbsphinx": "hidden",
    "tags": [
     "CloudRunner"
    ]
   },
   "outputs": [],
   "source": [
    "# install StellarGraph if running on Google Colab\n",
    "import sys\n",
    "if 'google.colab' in sys.modules:\n",
    "  %pip install -q stellargraph[demos]==1.2.1"
   ]
  },
  {
   "cell_type": "code",
   "execution_count": 45,
   "metadata": {
    "nbsphinx": "hidden",
    "tags": [
     "VersionCheck"
    ]
   },
   "outputs": [],
   "source": [
    "# verify that we're using the correct version of StellarGraph for this notebook\n",
    "import stellargraph as sg\n",
    "\n",
    "try:\n",
    "    sg.utils.validate_notebook_version(\"1.2.1\")\n",
    "except AttributeError:\n",
    "    raise ValueError(\n",
    "        f\"This notebook requires StellarGraph version 1.2.1, but a different version {sg.__version__} is installed.  Please see <https://github.com/stellargraph/stellargraph/issues/1172>.\"\n",
    "    ) from None"
   ]
  },
  {
   "cell_type": "code",
   "execution_count": 46,
   "metadata": {},
   "outputs": [],
   "source": [
    "import stellargraph as sg\n",
    "from stellargraph.data import EdgeSplitter\n",
    "from stellargraph.mapper import FullBatchLinkGenerator\n",
    "from stellargraph.layer import GCN, LinkEmbedding\n",
    "\n",
    "\n",
    "from tensorflow import keras\n",
    "from sklearn import preprocessing, feature_extraction, model_selection\n",
    "\n",
    "from stellargraph import globalvar\n",
    "from stellargraph import datasets\n",
    "from IPython.display import display, HTML\n",
    "%matplotlib inline"
   ]
  },
  {
   "cell_type": "markdown",
   "metadata": {},
   "source": [
    "## Loading the CORA network data"
   ]
  },
  {
   "cell_type": "markdown",
   "metadata": {
    "tags": [
     "DataLoadingLinks"
    ]
   },
   "source": [
    "(See [the \"Loading from Pandas\" demo](../basics/loading-pandas.ipynb) for details on how data can be loaded.)"
   ]
  },
  {
   "cell_type": "code",
   "execution_count": 47,
   "metadata": {
    "tags": [
     "DataLoading"
    ]
   },
   "outputs": [
    {
     "data": {
      "text/html": [
       "The Cora dataset consists of 2708 scientific publications classified into one of seven classes. The citation network consists of 5429 links. Each publication in the dataset is described by a 0/1-valued word vector indicating the absence/presence of the corresponding word from the dictionary. The dictionary consists of 1433 unique words."
      ],
      "text/plain": [
       "<IPython.core.display.HTML object>"
      ]
     },
     "metadata": {},
     "output_type": "display_data"
    }
   ],
   "source": [
    "dataset = datasets.Cora()\n",
    "display(HTML(dataset.description))\n",
    "G, _ = dataset.load(subject_as_feature=True)"
   ]
  },
  {
   "cell_type": "code",
   "execution_count": 48,
   "metadata": {},
   "outputs": [
    {
     "name": "stdout",
     "output_type": "stream",
     "text": [
      "StellarGraph: Undirected multigraph\n",
      " Nodes: 2708, Edges: 5429\n",
      "\n",
      " Node types:\n",
      "  paper: [2708]\n",
      "    Features: float32 vector, length 1440\n",
      "    Edge types: paper-cites->paper\n",
      "\n",
      " Edge types:\n",
      "    paper-cites->paper: [5429]\n",
      "        Weights: all 1 (default)\n",
      "        Features: none\n"
     ]
    }
   ],
   "source": [
    "print(G.info())"
   ]
  },
  {
   "cell_type": "markdown",
   "metadata": {},
   "source": [
    "We aim to train a link prediction model, hence we need to prepare the train and test sets of links and the corresponding graphs with those links removed.\n",
    "\n",
    "We are going to split our input graph into a train and test graphs using the EdgeSplitter class in `stellargraph.data`. We will use the train graph for training the model (a binary classifier that, given two nodes, predicts whether a link between these two nodes should exist or not) and the test graph for evaluating the model's performance on hold out data.\n",
    "Each of these graphs will have the same number of nodes as the input graph, but the number of links will differ (be reduced) as some of the links will be removed during each split and used as the positive samples for training/testing the link prediction classifier."
   ]
  },
  {
   "cell_type": "markdown",
   "metadata": {},
   "source": [
    "From the original graph G, extract a randomly sampled subset of test edges (true and false citation links) and the reduced graph G_test with the positive test edges removed:"
   ]
  },
  {
   "cell_type": "code",
   "execution_count": 49,
   "metadata": {},
   "outputs": [
    {
     "name": "stdout",
     "output_type": "stream",
     "text": [
      "** Sampled 542 positive and 542 negative edges. **\n"
     ]
    }
   ],
   "source": [
    "# Define an edge splitter on the original graph G:\n",
    "edge_splitter_test = EdgeSplitter(G)\n",
    "\n",
    "# Randomly sample a fraction p=0.1 of all positive links, and same number of negative links, from G, and obtain the\n",
    "# reduced graph G_test with the sampled links removed:\n",
    "G_test, edge_ids_test, edge_labels_test = edge_splitter_test.train_test_split(\n",
    "    p=0.1, method=\"global\", keep_connected=True\n",
    ")"
   ]
  },
  {
   "cell_type": "markdown",
   "metadata": {},
   "source": [
    "The reduced graph G_test, together with the test ground truth set of links (edge_ids_test, edge_labels_test), will be used for testing the model.\n",
    "\n",
    "Now repeat this procedure to obtain the training data for the model. From the reduced graph G_test, extract a randomly sampled subset of train edges (true and false citation links) and the reduced graph G_train with the positive train edges removed:"
   ]
  },
  {
   "cell_type": "code",
   "execution_count": 50,
   "metadata": {},
   "outputs": [
    {
     "name": "stdout",
     "output_type": "stream",
     "text": [
      "** Sampled 488 positive and 488 negative edges. **\n"
     ]
    }
   ],
   "source": [
    "# Define an edge splitter on the reduced graph G_test:\n",
    "edge_splitter_train = EdgeSplitter(G_test)\n",
    "\n",
    "# Randomly sample a fraction p=0.1 of all positive links, and same number of negative links, from G_test, and obtain the\n",
    "# reduced graph G_train with the sampled links removed:\n",
    "G_train, edge_ids_train, edge_labels_train = edge_splitter_train.train_test_split(\n",
    "    p=0.1, method=\"global\", keep_connected=True\n",
    ")"
   ]
  },
  {
   "cell_type": "markdown",
   "metadata": {},
   "source": [
    "G_train, together with the train ground truth set of links (edge_ids_train, edge_labels_train), will be used for training the model."
   ]
  },
  {
   "cell_type": "markdown",
   "metadata": {},
   "source": [
    "## Creating the GCN link model"
   ]
  },
  {
   "cell_type": "markdown",
   "metadata": {},
   "source": [
    "Next, we create the link generators for the train and test link examples to the model. The link generators take the pairs of nodes (`citing-paper`, `cited-paper`) that are given in the `.flow` method to the Keras model, together with the corresponding binary labels indicating whether those pairs represent true or false links.\n",
    "\n",
    "The number of epochs for training the model:"
   ]
  },
  {
   "cell_type": "code",
   "execution_count": 51,
   "metadata": {},
   "outputs": [],
   "source": [
    "epochs = 50"
   ]
  },
  {
   "cell_type": "markdown",
   "metadata": {},
   "source": [
    "For training we create a generator on the `G_train` graph, and make an iterator over the training links using the generator's `flow()` method:"
   ]
  },
  {
   "cell_type": "code",
   "execution_count": 52,
   "metadata": {},
   "outputs": [
    {
     "name": "stdout",
     "output_type": "stream",
     "text": [
      "Using GCN (local pooling) filters...\n"
     ]
    }
   ],
   "source": [
    "train_gen = FullBatchLinkGenerator(G_train, method=\"gcn\")\n",
    "train_flow = train_gen.flow(edge_ids_train, edge_labels_train)"
   ]
  },
  {
   "cell_type": "code",
   "execution_count": 53,
   "metadata": {},
   "outputs": [
    {
     "name": "stdout",
     "output_type": "stream",
     "text": [
      "Using GCN (local pooling) filters...\n"
     ]
    }
   ],
   "source": [
    "test_gen = FullBatchLinkGenerator(G_test, method=\"gcn\")\n",
    "test_flow = train_gen.flow(edge_ids_test, edge_labels_test)"
   ]
  },
  {
   "cell_type": "markdown",
   "metadata": {},
   "source": [
    "Now we can specify our machine learning model, we need a few more parameters for this:\n",
    "\n",
    " * the `layer_sizes` is a list of hidden feature sizes of each layer in the model. In this example we use two GCN layers with 16-dimensional hidden node features at each layer.\n",
    " * `activations` is a list of activations applied to each layer's output\n",
    " * `dropout=0.3` specifies a 30% dropout at each layer. "
   ]
  },
  {
   "cell_type": "markdown",
   "metadata": {},
   "source": [
    "We create a GCN model as follows:"
   ]
  },
  {
   "cell_type": "code",
   "execution_count": 54,
   "metadata": {},
   "outputs": [],
   "source": [
    "gcn = GCN(\n",
    "    layer_sizes=[16, 16], activations=[\"relu\", \"relu\"], generator=train_gen, dropout=0.3\n",
    ")"
   ]
  },
  {
   "cell_type": "markdown",
   "metadata": {},
   "source": [
    "To create a Keras model we now expose the input and output tensors of the GCN model for link prediction, via the `GCN.in_out_tensors` method:"
   ]
  },
  {
   "cell_type": "code",
   "execution_count": 55,
   "metadata": {},
   "outputs": [],
   "source": [
    "x_inp, x_out = gcn.in_out_tensors()"
   ]
  },
  {
   "cell_type": "markdown",
   "metadata": {},
   "source": [
    "Final link classification layer that takes a pair of node embeddings produced by the GCN model, applies a binary operator to them to produce the corresponding link embedding (`ip` for inner product; other options for the binary operator can be seen by running a cell with `?LinkEmbedding` in it), and passes it through a dense layer:"
   ]
  },
  {
   "cell_type": "code",
   "execution_count": 56,
   "metadata": {},
   "outputs": [],
   "source": [
    "prediction = LinkEmbedding(activation=\"relu\", method=\"ip\")(x_out)"
   ]
  },
  {
   "cell_type": "markdown",
   "metadata": {},
   "source": [
    "The predictions need to be reshaped from `(X, 1)` to `(X,)` to match the shape of the targets we have supplied above."
   ]
  },
  {
   "cell_type": "code",
   "execution_count": 57,
   "metadata": {},
   "outputs": [],
   "source": [
    "prediction = keras.layers.Reshape((-1,))(prediction)"
   ]
  },
  {
   "cell_type": "markdown",
   "metadata": {},
   "source": [
    "Stack the GCN and prediction layers into a Keras model, and specify the loss"
   ]
  },
  {
   "cell_type": "code",
   "execution_count": 58,
   "metadata": {},
   "outputs": [
    {
     "name": "stderr",
     "output_type": "stream",
     "text": [
      "/home/aime/anaconda3/lib/python3.7/site-packages/keras/optimizer_v2/optimizer_v2.py:356: UserWarning: The `lr` argument is deprecated, use `learning_rate` instead.\n",
      "  \"The `lr` argument is deprecated, use `learning_rate` instead.\")\n"
     ]
    }
   ],
   "source": [
    "model = keras.Model(inputs=x_inp, outputs=prediction)\n",
    "\n",
    "model.compile(\n",
    "    optimizer=keras.optimizers.Adam(lr=0.01),\n",
    "    loss=keras.losses.binary_crossentropy,\n",
    "    metrics=[\"binary_accuracy\"],\n",
    ")"
   ]
  },
  {
   "cell_type": "markdown",
   "metadata": {},
   "source": [
    "Evaluate the initial (untrained) model on the train and test set:"
   ]
  },
  {
   "cell_type": "code",
   "execution_count": 59,
   "metadata": {},
   "outputs": [
    {
     "name": "stdout",
     "output_type": "stream",
     "text": [
      "1/1 [==============================] - 0s 284ms/step - loss: 1.7466 - binary_accuracy: 0.5000\n",
      "1/1 [==============================] - 0s 60ms/step - loss: 1.7459 - binary_accuracy: 0.5000\n",
      "\n",
      "Train Set Metrics of the initial (untrained) model:\n",
      "\tloss: 1.7466\n",
      "\tbinary_accuracy: 0.5000\n",
      "\n",
      "Test Set Metrics of the initial (untrained) model:\n",
      "\tloss: 1.7459\n",
      "\tbinary_accuracy: 0.5000\n"
     ]
    }
   ],
   "source": [
    "init_train_metrics = model.evaluate(train_flow)\n",
    "init_test_metrics = model.evaluate(test_flow)\n",
    "\n",
    "print(\"\\nTrain Set Metrics of the initial (untrained) model:\")\n",
    "for name, val in zip(model.metrics_names, init_train_metrics):\n",
    "    print(\"\\t{}: {:0.4f}\".format(name, val))\n",
    "\n",
    "print(\"\\nTest Set Metrics of the initial (untrained) model:\")\n",
    "for name, val in zip(model.metrics_names, init_test_metrics):\n",
    "    print(\"\\t{}: {:0.4f}\".format(name, val))"
   ]
  },
  {
   "cell_type": "markdown",
   "metadata": {},
   "source": [
    "Train the model:"
   ]
  },
  {
   "cell_type": "code",
   "execution_count": 60,
   "metadata": {},
   "outputs": [
    {
     "name": "stdout",
     "output_type": "stream",
     "text": [
      "Epoch 1/50\n",
      "1/1 - 1s - loss: 1.6891 - binary_accuracy: 0.5000 - val_loss: 1.7114 - val_binary_accuracy: 0.5323\n",
      "Epoch 2/50\n",
      "1/1 - 0s - loss: 1.8796 - binary_accuracy: 0.5697 - val_loss: 0.7649 - val_binary_accuracy: 0.6227\n",
      "Epoch 3/50\n",
      "1/1 - 0s - loss: 0.8109 - binary_accuracy: 0.6137 - val_loss: 0.7497 - val_binary_accuracy: 0.5876\n",
      "Epoch 4/50\n",
      "1/1 - 0s - loss: 0.6843 - binary_accuracy: 0.5994 - val_loss: 0.7388 - val_binary_accuracy: 0.5756\n",
      "Epoch 5/50\n",
      "1/1 - 0s - loss: 0.7156 - binary_accuracy: 0.5850 - val_loss: 0.6773 - val_binary_accuracy: 0.6273\n",
      "Epoch 6/50\n",
      "1/1 - 0s - loss: 0.6630 - binary_accuracy: 0.6066 - val_loss: 0.7468 - val_binary_accuracy: 0.6439\n",
      "Epoch 7/50\n",
      "1/1 - 0s - loss: 0.8135 - binary_accuracy: 0.6516 - val_loss: 0.7690 - val_binary_accuracy: 0.6476\n",
      "Epoch 8/50\n",
      "1/1 - 0s - loss: 0.8049 - binary_accuracy: 0.6578 - val_loss: 0.6708 - val_binary_accuracy: 0.6688\n",
      "Epoch 9/50\n",
      "1/1 - 0s - loss: 0.6341 - binary_accuracy: 0.6721 - val_loss: 0.6286 - val_binary_accuracy: 0.6734\n",
      "Epoch 10/50\n",
      "1/1 - 0s - loss: 0.5667 - binary_accuracy: 0.7039 - val_loss: 0.6409 - val_binary_accuracy: 0.6458\n",
      "Epoch 11/50\n",
      "1/1 - 0s - loss: 0.5891 - binary_accuracy: 0.6691 - val_loss: 0.6358 - val_binary_accuracy: 0.6550\n",
      "Epoch 12/50\n",
      "1/1 - 0s - loss: 0.5698 - binary_accuracy: 0.6906 - val_loss: 0.6108 - val_binary_accuracy: 0.6882\n",
      "Epoch 13/50\n",
      "1/1 - 0s - loss: 0.5263 - binary_accuracy: 0.7213 - val_loss: 0.5836 - val_binary_accuracy: 0.7315\n",
      "Epoch 14/50\n",
      "1/1 - 0s - loss: 0.5267 - binary_accuracy: 0.7572 - val_loss: 0.6576 - val_binary_accuracy: 0.7325\n",
      "Epoch 15/50\n",
      "1/1 - 0s - loss: 0.5176 - binary_accuracy: 0.7715 - val_loss: 0.6890 - val_binary_accuracy: 0.7371\n",
      "Epoch 16/50\n",
      "1/1 - 0s - loss: 0.6037 - binary_accuracy: 0.7561 - val_loss: 0.6658 - val_binary_accuracy: 0.7389\n",
      "Epoch 17/50\n",
      "1/1 - 0s - loss: 0.5145 - binary_accuracy: 0.7807 - val_loss: 0.6053 - val_binary_accuracy: 0.7445\n",
      "Epoch 18/50\n",
      "1/1 - 0s - loss: 0.5327 - binary_accuracy: 0.7766 - val_loss: 0.5934 - val_binary_accuracy: 0.7371\n",
      "Epoch 19/50\n",
      "1/1 - 0s - loss: 0.4508 - binary_accuracy: 0.8002 - val_loss: 0.5790 - val_binary_accuracy: 0.7334\n",
      "Epoch 20/50\n",
      "1/1 - 0s - loss: 0.4442 - binary_accuracy: 0.8002 - val_loss: 0.5689 - val_binary_accuracy: 0.7288\n",
      "Epoch 21/50\n",
      "1/1 - 0s - loss: 0.4916 - binary_accuracy: 0.7756 - val_loss: 0.5771 - val_binary_accuracy: 0.7269\n",
      "Epoch 22/50\n",
      "1/1 - 0s - loss: 0.4542 - binary_accuracy: 0.7971 - val_loss: 0.5712 - val_binary_accuracy: 0.7223\n",
      "Epoch 23/50\n",
      "1/1 - 0s - loss: 0.4302 - binary_accuracy: 0.8053 - val_loss: 0.5855 - val_binary_accuracy: 0.7205\n",
      "Epoch 24/50\n",
      "1/1 - 0s - loss: 0.4289 - binary_accuracy: 0.8084 - val_loss: 0.6098 - val_binary_accuracy: 0.7223\n",
      "Epoch 25/50\n",
      "1/1 - 0s - loss: 0.4353 - binary_accuracy: 0.7941 - val_loss: 0.6577 - val_binary_accuracy: 0.7186\n",
      "Epoch 26/50\n",
      "1/1 - 0s - loss: 0.4414 - binary_accuracy: 0.7920 - val_loss: 0.6857 - val_binary_accuracy: 0.7103\n",
      "Epoch 27/50\n",
      "1/1 - 0s - loss: 0.4552 - binary_accuracy: 0.7848 - val_loss: 0.6861 - val_binary_accuracy: 0.7076\n",
      "Epoch 28/50\n",
      "1/1 - 0s - loss: 0.4349 - binary_accuracy: 0.8125 - val_loss: 0.6739 - val_binary_accuracy: 0.7122\n",
      "Epoch 29/50\n",
      "1/1 - 0s - loss: 0.4196 - binary_accuracy: 0.8238 - val_loss: 0.6614 - val_binary_accuracy: 0.7122\n",
      "Epoch 30/50\n",
      "1/1 - 0s - loss: 0.4246 - binary_accuracy: 0.8002 - val_loss: 0.6583 - val_binary_accuracy: 0.7140\n",
      "Epoch 31/50\n",
      "1/1 - 0s - loss: 0.4144 - binary_accuracy: 0.8340 - val_loss: 0.6457 - val_binary_accuracy: 0.7196\n",
      "Epoch 32/50\n",
      "1/1 - 0s - loss: 0.3960 - binary_accuracy: 0.8371 - val_loss: 0.6536 - val_binary_accuracy: 0.7251\n",
      "Epoch 33/50\n",
      "1/1 - 0s - loss: 0.3748 - binary_accuracy: 0.8340 - val_loss: 0.6583 - val_binary_accuracy: 0.7260\n",
      "Epoch 34/50\n",
      "1/1 - 0s - loss: 0.3546 - binary_accuracy: 0.8350 - val_loss: 0.6520 - val_binary_accuracy: 0.7260\n",
      "Epoch 35/50\n",
      "1/1 - 0s - loss: 0.3584 - binary_accuracy: 0.8453 - val_loss: 0.6472 - val_binary_accuracy: 0.7325\n",
      "Epoch 36/50\n",
      "1/1 - 0s - loss: 0.3539 - binary_accuracy: 0.8463 - val_loss: 0.6413 - val_binary_accuracy: 0.7352\n",
      "Epoch 37/50\n",
      "1/1 - 0s - loss: 0.3504 - binary_accuracy: 0.8555 - val_loss: 0.6630 - val_binary_accuracy: 0.7445\n",
      "Epoch 38/50\n",
      "1/1 - 0s - loss: 0.3279 - binary_accuracy: 0.8658 - val_loss: 0.7061 - val_binary_accuracy: 0.7500\n",
      "Epoch 39/50\n",
      "1/1 - 0s - loss: 0.3217 - binary_accuracy: 0.8791 - val_loss: 0.7403 - val_binary_accuracy: 0.7509\n",
      "Epoch 40/50\n",
      "1/1 - 0s - loss: 0.3542 - binary_accuracy: 0.8934 - val_loss: 0.8219 - val_binary_accuracy: 0.7537\n",
      "Epoch 41/50\n",
      "1/1 - 0s - loss: 0.3259 - binary_accuracy: 0.8750 - val_loss: 0.8679 - val_binary_accuracy: 0.7482\n",
      "Epoch 42/50\n",
      "1/1 - 0s - loss: 0.3370 - binary_accuracy: 0.8883 - val_loss: 0.8619 - val_binary_accuracy: 0.7500\n",
      "Epoch 43/50\n",
      "1/1 - 0s - loss: 0.2932 - binary_accuracy: 0.8801 - val_loss: 0.8785 - val_binary_accuracy: 0.7537\n",
      "Epoch 44/50\n",
      "1/1 - 0s - loss: 0.3243 - binary_accuracy: 0.8863 - val_loss: 0.8409 - val_binary_accuracy: 0.7518\n",
      "Epoch 45/50\n",
      "1/1 - 0s - loss: 0.2761 - binary_accuracy: 0.8883 - val_loss: 0.7294 - val_binary_accuracy: 0.7546\n",
      "Epoch 46/50\n",
      "1/1 - 0s - loss: 0.2728 - binary_accuracy: 0.8945 - val_loss: 0.7164 - val_binary_accuracy: 0.7325\n",
      "Epoch 47/50\n",
      "1/1 - 0s - loss: 0.3083 - binary_accuracy: 0.8822 - val_loss: 0.7339 - val_binary_accuracy: 0.7177\n",
      "Epoch 48/50\n",
      "1/1 - 0s - loss: 0.3165 - binary_accuracy: 0.8555 - val_loss: 0.7725 - val_binary_accuracy: 0.7149\n",
      "Epoch 49/50\n",
      "1/1 - 0s - loss: 0.4036 - binary_accuracy: 0.8330 - val_loss: 0.7949 - val_binary_accuracy: 0.7122\n",
      "Epoch 50/50\n",
      "1/1 - 0s - loss: 0.3943 - binary_accuracy: 0.8238 - val_loss: 0.8208 - val_binary_accuracy: 0.7122\n"
     ]
    }
   ],
   "source": [
    "history = model.fit(\n",
    "    train_flow, epochs=epochs, validation_data=test_flow, verbose=2, shuffle=False\n",
    ")"
   ]
  },
  {
   "cell_type": "markdown",
   "metadata": {},
   "source": [
    "Plot the training history:"
   ]
  },
  {
   "cell_type": "code",
   "execution_count": 61,
   "metadata": {},
   "outputs": [
    {
     "data": {
      "image/png": "[encoded data removed]",
      "text/plain": [
       "<Figure size 504x576 with 2 Axes>"
      ]
     },
     "metadata": {
      "needs_background": "light"
     },
     "output_type": "display_data"
    }
   ],
   "source": [
    "sg.utils.plot_history(history)"
   ]
  },
  {
   "cell_type": "markdown",
   "metadata": {},
   "source": [
    "Evaluate the trained model on test citation links:"
   ]
  },
  {
   "cell_type": "code",
   "execution_count": 62,
   "metadata": {},
   "outputs": [
    {
     "name": "stdout",
     "output_type": "stream",
     "text": [
      "1/1 [==============================] - 0s 47ms/step - loss: 0.3029 - binary_accuracy: 0.8770\n",
      "1/1 [==============================] - 0s 55ms/step - loss: 0.8208 - binary_accuracy: 0.7122\n",
      "\n",
      "Train Set Metrics of the trained model:\n",
      "\tloss: 0.3029\n",
      "\tbinary_accuracy: 0.8770\n",
      "\n",
      "Test Set Metrics of the trained model:\n",
      "\tloss: 0.8208\n",
      "\tbinary_accuracy: 0.7122\n"
     ]
    }
   ],
   "source": [
    "train_metrics = model.evaluate(train_flow)\n",
    "test_metrics = model.evaluate(test_flow)\n",
    "\n",
    "print(\"\\nTrain Set Metrics of the trained model:\")\n",
    "for name, val in zip(model.metrics_names, train_metrics):\n",
    "    print(\"\\t{}: {:0.4f}\".format(name, val))\n",
    "\n",
    "print(\"\\nTest Set Metrics of the trained model:\")\n",
    "for name, val in zip(model.metrics_names, test_metrics):\n",
    "    print(\"\\t{}: {:0.4f}\".format(name, val))"
   ]
  },
  {
   "cell_type": "markdown",
   "metadata": {
    "nbsphinx": "hidden",
    "tags": [
     "CloudRunner"
    ]
   },
   "source": [
    "<table><tr><td>Run the latest release of this notebook:</td><td><a href=\"https://mybinder.org/v2/gh/stellargraph/stellargraph/master?urlpath=lab/tree/demos/link-prediction/gcn-link-prediction.ipynb\" alt=\"Open In Binder\" target=\"_parent\"><img src=\"https://mybinder.org/badge_logo.svg\"/></a></td><td><a href=\"https://colab.research.google.com/github/stellargraph/stellargraph/blob/master/demos/link-prediction/gcn-link-prediction.ipynb\" alt=\"Open In Colab\" target=\"_parent\"><img src=\"https://colab.research.google.com/assets/colab-badge.svg\"/></a></td></tr></table>"
   ]
  },
  {
   "cell_type": "code",
   "execution_count": null,
   "metadata": {},
   "outputs": [],
   "source": []
  },
  {
   "cell_type": "code",
   "execution_count": null,
   "metadata": {},
   "outputs": [],
   "source": []
  },
  {
   "cell_type": "code",
   "execution_count": null,
   "metadata": {},
   "outputs": [],
   "source": []
  },
  {
   "cell_type": "code",
   "execution_count": null,
   "metadata": {},
   "outputs": [],
   "source": []
  }
 ],
 "metadata": {
  "file_extension": ".py",
  "kernelspec": {
   "display_name": "Python 3",
   "language": "python",
   "name": "python3"
  },
  "language_info": {
   "codemirror_mode": {
    "name": "ipython",
    "version": 3
   },
   "file_extension": ".py",
   "mimetype": "text/x-python",
   "name": "python",
   "nbconvert_exporter": "python",
   "pygments_lexer": "ipython3",
   "version": "3.7.6"
  },
  "mimetype": "text/x-python",
  "name": "python",
  "npconvert_exporter": "python",
  "pygments_lexer": "ipython3",
  "version": 3
 },
 "nbformat": 4,
 "nbformat_minor": 4
}
