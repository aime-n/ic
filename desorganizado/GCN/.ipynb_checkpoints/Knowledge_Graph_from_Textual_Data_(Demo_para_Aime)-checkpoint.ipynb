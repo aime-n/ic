{
 "cells": [
  {
   "cell_type": "code",
   "execution_count": 4,
   "metadata": {
    "colab": {
     "base_uri": "https://localhost:8080/"
    },
    "id": "Swhut9mHBYIv",
    "outputId": "731f2749-f2de-486f-aaad-6e3e55a4c958"
   },
   "outputs": [
    {
     "name": "stdout",
     "output_type": "stream",
     "text": [
      "fatal: destination path 'Knowledge-Graph' already exists and is not an empty directory.\n"
     ]
    }
   ],
   "source": [
    "!git clone https://github.com/HaoWeiHe/Knowledge-Graph"
   ]
  },
  {
   "cell_type": "code",
   "execution_count": 5,
   "metadata": {
    "id": "aT_c_P-lBbBj"
   },
   "outputs": [
    {
     "name": "stdout",
     "output_type": "stream",
     "text": [
      "mv: cannot stat './Knowledge-Graph/*': No such file or directory\n"
     ]
    }
   ],
   "source": [
    "mv ./Knowledge-Graph/* ."
   ]
  },
  {
   "cell_type": "markdown",
   "metadata": {
    "id": "a-_FvFESB1bX"
   },
   "source": [
    "# Exemplo de como extrair triplas para formar uma KG"
   ]
  },
  {
   "cell_type": "markdown",
   "metadata": {
    "id": "Uux4X6AMB5b2"
   },
   "source": [
    "### Vértices"
   ]
  },
  {
   "cell_type": "code",
   "execution_count": 7,
   "metadata": {
    "colab": {
     "base_uri": "https://localhost:8080/"
    },
    "id": "XX9WNbw4Bo80",
    "outputId": "1bc05ef0-2c9d-4e91-cdf6-fa16d2fb204c"
   },
   "outputs": [
    {
     "ename": "ModuleNotFoundError",
     "evalue": "No module named 'spacy'",
     "output_type": "error",
     "traceback": [
      "\u001b[0;31m---------------------------------------------------------------------------\u001b[0m",
      "\u001b[0;31mModuleNotFoundError\u001b[0m                       Traceback (most recent call last)",
      "\u001b[0;32m<ipython-input-7-6b3d03120be1>\u001b[0m in \u001b[0;36m<module>\u001b[0;34m\u001b[0m\n\u001b[0;32m----> 1\u001b[0;31m \u001b[0;32mfrom\u001b[0m \u001b[0mknowledgeGraph\u001b[0m \u001b[0;32mimport\u001b[0m \u001b[0mget_entity\u001b[0m\u001b[0;34m\u001b[0m\u001b[0;34m\u001b[0m\u001b[0m\n\u001b[0m\u001b[1;32m      2\u001b[0m \u001b[0mtext\u001b[0m \u001b[0;34m=\u001b[0m \u001b[0;34m\"the milky way has spiral arms\"\u001b[0m\u001b[0;34m\u001b[0m\u001b[0;34m\u001b[0m\u001b[0m\n\u001b[1;32m      3\u001b[0m \u001b[0moutput\u001b[0m \u001b[0;34m=\u001b[0m \u001b[0mget_entity\u001b[0m\u001b[0;34m(\u001b[0m\u001b[0mtext\u001b[0m\u001b[0;34m)\u001b[0m\u001b[0;34m\u001b[0m\u001b[0;34m\u001b[0m\u001b[0m\n\u001b[1;32m      4\u001b[0m \u001b[0mprint\u001b[0m\u001b[0;34m(\u001b[0m\u001b[0moutput\u001b[0m\u001b[0;34m)\u001b[0m\u001b[0;34m\u001b[0m\u001b[0;34m\u001b[0m\u001b[0m\n",
      "\u001b[0;32m~/Documents/usp/IC/GCN/knowledgeGraph/__init__.py\u001b[0m in \u001b[0;36m<module>\u001b[0;34m\u001b[0m\n\u001b[0;32m----> 1\u001b[0;31m \u001b[0;32mimport\u001b[0m \u001b[0mspacy\u001b[0m\u001b[0;34m\u001b[0m\u001b[0;34m\u001b[0m\u001b[0m\n\u001b[0m\u001b[1;32m      2\u001b[0m \u001b[0mmodel\u001b[0m \u001b[0;34m=\u001b[0m \u001b[0;34m\"en_core_web_sm\"\u001b[0m\u001b[0;34m\u001b[0m\u001b[0;34m\u001b[0m\u001b[0m\n\u001b[1;32m      3\u001b[0m \u001b[0mnlp\u001b[0m \u001b[0;34m=\u001b[0m \u001b[0mspacy\u001b[0m\u001b[0;34m.\u001b[0m\u001b[0mload\u001b[0m\u001b[0;34m(\u001b[0m\u001b[0mmodel\u001b[0m\u001b[0;34m)\u001b[0m\u001b[0;34m\u001b[0m\u001b[0;34m\u001b[0m\u001b[0m\n\u001b[1;32m      4\u001b[0m \u001b[0;32mfrom\u001b[0m \u001b[0mknowledgeGraph\u001b[0m\u001b[0;34m.\u001b[0m\u001b[0minformation\u001b[0m \u001b[0;32mimport\u001b[0m \u001b[0mInformationExtraction\u001b[0m\u001b[0;34m\u001b[0m\u001b[0;34m\u001b[0m\u001b[0m\n\u001b[1;32m      5\u001b[0m \u001b[0;32mfrom\u001b[0m \u001b[0mknowledgeGraph\u001b[0m\u001b[0;34m.\u001b[0m\u001b[0mvisualization\u001b[0m \u001b[0;32mimport\u001b[0m \u001b[0mVisualize\u001b[0m\u001b[0;34m\u001b[0m\u001b[0;34m\u001b[0m\u001b[0m\n",
      "\u001b[0;31mModuleNotFoundError\u001b[0m: No module named 'spacy'"
     ]
    }
   ],
   "source": [
    "from knowledgeGraph import get_entity\t\t\n",
    "text = \"the milky way has spiral arms\" \n",
    "output = get_entity(text)\n",
    "print(output)"
   ]
  },
  {
   "cell_type": "markdown",
   "metadata": {
    "id": "hEM2EZsmB683"
   },
   "source": [
    "### Aresta"
   ]
  },
  {
   "cell_type": "code",
   "execution_count": null,
   "metadata": {
    "colab": {
     "base_uri": "https://localhost:8080/"
    },
    "id": "4hjLhgZvBz1n",
    "outputId": "c2bdc32d-d136-4971-80fa-27d7f0fd9c9b"
   },
   "outputs": [
    {
     "name": "stdout",
     "output_type": "stream",
     "text": [
      "have\n"
     ]
    }
   ],
   "source": [
    "from knowledgeGraph import get_relation\t\t\n",
    "text = \"the milky way has spiral arms\" \n",
    "output = get_relation(text)\n",
    "print(output)"
   ]
  },
  {
   "cell_type": "markdown",
   "metadata": {
    "id": "YXy47iRVCCUO"
   },
   "source": [
    "# Visualizando\n",
    "\n",
    "(vai falhar para KGs muito grandes)"
   ]
  },
  {
   "cell_type": "code",
   "execution_count": null,
   "metadata": {
    "colab": {
     "base_uri": "https://localhost:8080/",
     "height": 297
    },
    "id": "_n2kFl3jCBz4",
    "outputId": "5e3579cb-80a7-461a-f222-7a4787ce5f03"
   },
   "outputs": [
    {
     "data": {
      "image/png": "[encoded data removed]",
      "text/plain": [
       "<Figure size 432x288 with 1 Axes>"
      ]
     },
     "metadata": {},
     "output_type": "display_data"
    }
   ],
   "source": [
    "from knowledgeGraph import show\t\t\n",
    "show(\"the milky way has spiral arms\")"
   ]
  },
  {
   "cell_type": "markdown",
   "metadata": {
    "id": "Ca96QpAbB8Xn"
   },
   "source": [
    "# Construindo a KG"
   ]
  },
  {
   "cell_type": "markdown",
   "metadata": {
    "id": "dulqZ_kZCXko"
   },
   "source": [
    "### App reviews"
   ]
  },
  {
   "cell_type": "code",
   "execution_count": null,
   "metadata": {
    "id": "WJ--uB2JDAM4"
   },
   "outputs": [],
   "source": [
    "# Aime: vc pode adicionar mais umas 10 reviews aqui?\n",
    "# Fonte: https://play.google.com/store/apps/details?id=com.ubercab&hl=en&gl=US\n",
    "text = '''The APP is good. But the services are continuously and gradually deteriorating due to the drivers and condition of the cabs. They are now at par with the old Taxi wallas, everytime either refusing the trips or ask us to cancel the trip. They also ask for payments in cash mode only. Some of them even ask for extra money.'''"
   ]
  },
  {
   "cell_type": "code",
   "execution_count": null,
   "metadata": {
    "colab": {
     "base_uri": "https://localhost:8080/"
    },
    "id": "YwQgzYLbDAiO",
    "outputId": "73f55ac3-9a57-4792-a26e-562ccebadd4e"
   },
   "outputs": [
    {
     "name": "stdout",
     "output_type": "stream",
     "text": [
      "[nltk_data] Downloading package punkt to /root/nltk_data...\n",
      "[nltk_data]   Unzipping tokenizers/punkt.zip.\n",
      "The APP is good.\n",
      "('APP', '') be\n",
      "But the services are continuously and gradually deteriorating due to the drivers and condition of the cabs.\n",
      "('services', 'cabs') deteriorate\n",
      "They are now at par with the old Taxi wallas, everytime either refusing the trips or ask us to cancel the trip.\n",
      "('They', 'trip') be\n",
      "They also ask for payments in cash mode only.\n",
      "('They', 'cash mode') ask\n",
      "Some of them even ask for extra money.\n",
      "('Some', 'even extra money') ask\n"
     ]
    }
   ],
   "source": [
    "import nltk\n",
    "from nltk.tokenize import sent_tokenize\n",
    "nltk.download('punkt')\n",
    "import networkx as nx\n",
    "\n",
    "KG = nx.Graph()\n",
    "\n",
    "for sentence in sent_tokenize(text):\n",
    "  print(sentence)\n",
    "  nodes = get_entity(sentence)\n",
    "  relation = get_relation(sentence)\n",
    "  print(nodes,relation)\n",
    "  node1 = nodes[0]\n",
    "  node2 = nodes[1]\n",
    "  if len(node1) > 0 and len(node2) > 0:\n",
    "    KG.add_edge(node1,node2,relation=relation)\n"
   ]
  },
  {
   "cell_type": "markdown",
   "metadata": {
    "id": "_8OxUNXMHaV7"
   },
   "source": [
    "### Código apenas para visualização\n",
    "Não vai funcionar para KG grandes."
   ]
  },
  {
   "cell_type": "code",
   "execution_count": null,
   "metadata": {
    "colab": {
     "base_uri": "https://localhost:8080/",
     "height": 319
    },
    "id": "GifVDyiyGc1a",
    "outputId": "a4f390d3-e315-4b1a-fc53-64fffaf123a4"
   },
   "outputs": [
    {
     "data": {
      "image/png": "[encoded data removed]",
      "text/plain": [
       "<Figure size 432x288 with 1 Axes>"
      ]
     },
     "metadata": {},
     "output_type": "display_data"
    }
   ],
   "source": [
    "import matplotlib.pyplot as plt\n",
    "\n",
    "pos = nx.circular_layout(KG)\n",
    "\n",
    "nx.draw(KG, with_labels=True, node_color='skyblue', edge_cmap=plt.cm.Blues, pos = pos)\n",
    "edge_labels = nx.get_edge_attributes(KG,'relation') \n",
    "formatted_edge_labels = {(elem[0],elem[1]):edge_labels[elem] for elem in edge_labels} # use this to modify the tuple keyed dict if it has > 2 elements, else ignore\n",
    "nx.draw_networkx_edge_labels(KG,pos,edge_labels=formatted_edge_labels,font_color='red')\n",
    "plt.show()"
   ]
  }
 ],
 "metadata": {
  "colab": {
   "name": "Knowledge-Graph from Textual Data (Demo para Aime).ipynb",
   "provenance": []
  },
  "kernelspec": {
   "display_name": "Python 3",
   "language": "python",
   "name": "python3"
  },
  "language_info": {
   "codemirror_mode": {
    "name": "ipython",
    "version": 3
   },
   "file_extension": ".py",
   "mimetype": "text/x-python",
   "name": "python",
   "nbconvert_exporter": "python",
   "pygments_lexer": "ipython3",
   "version": "3.7.6"
  }
 },
 "nbformat": 4,
 "nbformat_minor": 4
}
