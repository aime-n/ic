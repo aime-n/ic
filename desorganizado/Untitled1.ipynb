{
 "cells": [
  {
   "cell_type": "code",
   "execution_count": 15,
   "metadata": {},
   "outputs": [],
   "source": [
    "def funcao(lista,n): ###n começa como o tamanho da lista\n",
    "\n",
    "    if (n == 1): ## se n = 1, retorna o primeiro item da lista\n",
    "\n",
    "        return lista[0]\n",
    "\n",
    "#     print(aux)\n",
    "    aux = funcao(lista,n-1) ## chama aux com n-1\n",
    "    \n",
    "    print('n',n)\n",
    "    print('lista', lista[n-1])\n",
    "    print('aux', aux)\n",
    "    if (lista[n-1] < aux): \n",
    "        \n",
    "\n",
    "        return lista[n-1]\n",
    "\n",
    "    else:\n",
    "\n",
    "        return aux"
   ]
  },
  {
   "cell_type": "code",
   "execution_count": 16,
   "metadata": {},
   "outputs": [
    {
     "name": "stdout",
     "output_type": "stream",
     "text": [
      "n 2\n",
      "lista 5\n",
      "aux 8\n",
      "n 3\n",
      "lista 4\n",
      "aux 5\n",
      "n 4\n",
      "lista 5\n",
      "aux 4\n",
      "n 5\n",
      "lista 7\n",
      "aux 4\n",
      "n 6\n",
      "lista 5\n",
      "aux 4\n",
      "n 7\n",
      "lista 2\n",
      "aux 4\n",
      "n 8\n",
      "lista 89\n",
      "aux 2\n",
      "n 9\n",
      "lista -1\n",
      "aux 2\n",
      "n 10\n",
      "lista 4\n",
      "aux -1\n"
     ]
    },
    {
     "data": {
      "text/plain": [
       "-1"
      ]
     },
     "execution_count": 16,
     "metadata": {},
     "output_type": "execute_result"
    }
   ],
   "source": [
    "lista = [8,5,4,5,7,5,2,89,-1,4]\n",
    "n = len(lista)\n",
    "funcao(lista,n)"
   ]
  }
 ],
 "metadata": {
  "kernelspec": {
   "display_name": "Python 3.7.6 64-bit ('base': conda)",
   "language": "python",
   "name": "python376jvsc74a57bd097aa173f3d7cb6cbd06fd9440db227aa78877e700955a422baf122d22ccfb49a"
  },
  "language_info": {
   "codemirror_mode": {
    "name": "ipython",
    "version": 3
   },
   "file_extension": ".py",
   "mimetype": "text/x-python",
   "name": "python",
   "nbconvert_exporter": "python",
   "pygments_lexer": "ipython3",
   "version": "3.7.6"
  }
 },
 "nbformat": 4,
 "nbformat_minor": 4
}
