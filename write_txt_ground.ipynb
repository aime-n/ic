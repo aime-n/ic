{
 "cells": [
  {
   "cell_type": "code",
   "execution_count": 1,
   "metadata": {},
   "outputs": [
    {
     "data": {
      "text/html": [
       "<div>\n",
       "<style scoped>\n",
       "    .dataframe tbody tr th:only-of-type {\n",
       "        vertical-align: middle;\n",
       "    }\n",
       "\n",
       "    .dataframe tbody tr th {\n",
       "        vertical-align: top;\n",
       "    }\n",
       "\n",
       "    .dataframe thead th {\n",
       "        text-align: right;\n",
       "    }\n",
       "</style>\n",
       "<table border=\"1\" class=\"dataframe\">\n",
       "  <thead>\n",
       "    <tr style=\"text-align: right;\">\n",
       "      <th></th>\n",
       "      <th>App id</th>\n",
       "      <th>Review id</th>\n",
       "      <th>Sentence id</th>\n",
       "      <th>Sentence content</th>\n",
       "      <th>Feature (Positive)</th>\n",
       "      <th>Feature (Neutral)</th>\n",
       "      <th>Feature (Negative)</th>\n",
       "      <th>Feature (All Annotated)</th>\n",
       "    </tr>\n",
       "  </thead>\n",
       "  <tbody>\n",
       "    <tr>\n",
       "      <th>0</th>\n",
       "      <td>com.zentertain.photoeditor</td>\n",
       "      <td>gp:AOqpTOEW40L9WXqCjzq04bqaZImgMdzlczxIF3_ibs8...</td>\n",
       "      <td>1</td>\n",
       "      <td>May be i can check</td>\n",
       "      <td>NaN</td>\n",
       "      <td>NaN</td>\n",
       "      <td>NaN</td>\n",
       "      <td>NaN</td>\n",
       "    </tr>\n",
       "    <tr>\n",
       "      <th>1</th>\n",
       "      <td>com.zentertain.photoeditor</td>\n",
       "      <td>gp:AOqpTOF57AQPvmnCiWYurwLY-F2-mej25ON8RAFk-Ls...</td>\n",
       "      <td>1</td>\n",
       "      <td>It make me happy</td>\n",
       "      <td>NaN</td>\n",
       "      <td>NaN</td>\n",
       "      <td>NaN</td>\n",
       "      <td>NaN</td>\n",
       "    </tr>\n",
       "    <tr>\n",
       "      <th>2</th>\n",
       "      <td>com.zentertain.photoeditor</td>\n",
       "      <td>gp:AOqpTOHYdmt72q4tSD8TZ8A5fZQqGivlBkIbWuHuJMZ...</td>\n",
       "      <td>1</td>\n",
       "      <td>I have a normal phone and it made 1 of my pics...</td>\n",
       "      <td>NaN</td>\n",
       "      <td>pics</td>\n",
       "      <td>NaN</td>\n",
       "      <td>pics</td>\n",
       "    </tr>\n",
       "    <tr>\n",
       "      <th>3</th>\n",
       "      <td>com.zentertain.photoeditor</td>\n",
       "      <td>gp:AOqpTOFYnXMShrDJPS0jpM04pFQxYOJN1LDuX3lSNm0...</td>\n",
       "      <td>1</td>\n",
       "      <td>Love it so much</td>\n",
       "      <td>NaN</td>\n",
       "      <td>NaN</td>\n",
       "      <td>NaN</td>\n",
       "      <td>NaN</td>\n",
       "    </tr>\n",
       "    <tr>\n",
       "      <th>4</th>\n",
       "      <td>com.zentertain.photoeditor</td>\n",
       "      <td>gp:AOqpTOF_JO496wnThQ2kcYlPct_g1GhOmQyyVvHp4VV...</td>\n",
       "      <td>1</td>\n",
       "      <td>Cant get to install</td>\n",
       "      <td>NaN</td>\n",
       "      <td>install</td>\n",
       "      <td>NaN</td>\n",
       "      <td>install</td>\n",
       "    </tr>\n",
       "  </tbody>\n",
       "</table>\n",
       "</div>"
      ],
      "text/plain": [
       "                       App id  \\\n",
       "0  com.zentertain.photoeditor   \n",
       "1  com.zentertain.photoeditor   \n",
       "2  com.zentertain.photoeditor   \n",
       "3  com.zentertain.photoeditor   \n",
       "4  com.zentertain.photoeditor   \n",
       "\n",
       "                                           Review id  Sentence id  \\\n",
       "0  gp:AOqpTOEW40L9WXqCjzq04bqaZImgMdzlczxIF3_ibs8...            1   \n",
       "1  gp:AOqpTOF57AQPvmnCiWYurwLY-F2-mej25ON8RAFk-Ls...            1   \n",
       "2  gp:AOqpTOHYdmt72q4tSD8TZ8A5fZQqGivlBkIbWuHuJMZ...            1   \n",
       "3  gp:AOqpTOFYnXMShrDJPS0jpM04pFQxYOJN1LDuX3lSNm0...            1   \n",
       "4  gp:AOqpTOF_JO496wnThQ2kcYlPct_g1GhOmQyyVvHp4VV...            1   \n",
       "\n",
       "                                    Sentence content Feature (Positive)  \\\n",
       "0                                 May be i can check                NaN   \n",
       "1                                   It make me happy                NaN   \n",
       "2  I have a normal phone and it made 1 of my pics...                NaN   \n",
       "3                                    Love it so much                NaN   \n",
       "4                                Cant get to install                NaN   \n",
       "\n",
       "  Feature (Neutral) Feature (Negative) Feature (All Annotated)  \n",
       "0               NaN                NaN                     NaN  \n",
       "1               NaN                NaN                     NaN  \n",
       "2              pics                NaN                    pics  \n",
       "3               NaN                NaN                     NaN  \n",
       "4           install                NaN                 install  "
      ]
     },
     "execution_count": 1,
     "metadata": {},
     "output_type": "execute_result"
    }
   ],
   "source": [
    "import pandas as pd\n",
    "df = pd.read_csv('Ground_truth.csv')\n",
    "df.head()"
   ]
  },
  {
   "cell_type": "code",
   "execution_count": 2,
   "metadata": {},
   "outputs": [
    {
     "data": {
      "text/plain": [
       "(2062,)"
      ]
     },
     "execution_count": 2,
     "metadata": {},
     "output_type": "execute_result"
    }
   ],
   "source": [
    "df['Sentence content'].shape"
   ]
  },
  {
   "cell_type": "code",
   "execution_count": 3,
   "metadata": {},
   "outputs": [],
   "source": [
    "f = open(\"test_data_groundtruth.txt\",\"w+\")"
   ]
  },
  {
   "cell_type": "code",
   "execution_count": 5,
   "metadata": {},
   "outputs": [],
   "source": [
    "for line in df['Sentence content']:\n",
    "    f.write(f'{line}\\n')"
   ]
  },
  {
   "cell_type": "code",
   "execution_count": 6,
   "metadata": {},
   "outputs": [],
   "source": [
    "f.close()"
   ]
  },
  {
   "cell_type": "code",
   "execution_count": null,
   "metadata": {},
   "outputs": [],
   "source": []
  }
 ],
 "metadata": {
  "kernelspec": {
   "display_name": "Python 3",
   "language": "python",
   "name": "python3"
  },
  "language_info": {
   "codemirror_mode": {
    "name": "ipython",
    "version": 3
   },
   "file_extension": ".py",
   "mimetype": "text/x-python",
   "name": "python",
   "nbconvert_exporter": "python",
   "pygments_lexer": "ipython3",
   "version": "3.7.6"
  }
 },
 "nbformat": 4,
 "nbformat_minor": 4
}
